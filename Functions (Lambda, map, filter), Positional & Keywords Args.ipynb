{
 "cells": [
  {
   "cell_type": "markdown",
   "id": "84e14296",
   "metadata": {},
   "source": [
    "# Functions in Python"
   ]
  },
  {
   "cell_type": "markdown",
   "id": "dfac6aaa",
   "metadata": {},
   "source": [
    "."
   ]
  },
  {
   "cell_type": "code",
   "execution_count": 1,
   "id": "7efcbf53",
   "metadata": {},
   "outputs": [],
   "source": [
    "def even_odd(num):\n",
    "    if num%2==0:\n",
    "        print(\"The number is even\")\n",
    "        \n",
    "    else:\n",
    "        print(\"The number is odd\")"
   ]
  },
  {
   "cell_type": "code",
   "execution_count": 2,
   "id": "8f649075",
   "metadata": {},
   "outputs": [
    {
     "name": "stdout",
     "output_type": "stream",
     "text": [
      "The number is even\n"
     ]
    }
   ],
   "source": [
    "x=10\n",
    "even_odd(x)"
   ]
  },
  {
   "cell_type": "code",
   "execution_count": 3,
   "id": "72958e92",
   "metadata": {},
   "outputs": [
    {
     "name": "stdout",
     "output_type": "stream",
     "text": [
      "The number is odd\n"
     ]
    }
   ],
   "source": [
    "even_odd(5)"
   ]
  },
  {
   "cell_type": "markdown",
   "id": "a5dfb9fc",
   "metadata": {},
   "source": [
    "User input "
   ]
  },
  {
   "cell_type": "code",
   "execution_count": 1,
   "id": "40d2e7eb",
   "metadata": {},
   "outputs": [
    {
     "name": "stdout",
     "output_type": "stream",
     "text": [
      "Enter the number: 6\n"
     ]
    }
   ],
   "source": [
    "number = int(input(\"Enter the number: \"))\n",
    "def even_oddinput(number):\n",
    "    if number%2==0:\n",
    "        print(\"{0} is Even\".format(number))\n",
    "    else:\n",
    "        print(\"{0} is Odd\".format(number))"
   ]
  },
  {
   "cell_type": "code",
   "execution_count": 2,
   "id": "a7a9ddff",
   "metadata": {},
   "outputs": [
    {
     "name": "stdout",
     "output_type": "stream",
     "text": [
      "6 is Even\n"
     ]
    }
   ],
   "source": [
    "even_oddinput(number)"
   ]
  },
  {
   "cell_type": "code",
   "execution_count": 11,
   "id": "63943ea0",
   "metadata": {},
   "outputs": [],
   "source": [
    "x = range(1,20)\n",
    "odd = []\n",
    "even = []\n",
    "def even_oddarray():\n",
    "    for i in x: \n",
    "        if i%2==0:\n",
    "            even.append(i)\n",
    "        else:\n",
    "            odd.append(i)\n",
    "    "
   ]
  },
  {
   "cell_type": "code",
   "execution_count": 12,
   "id": "80e0d010",
   "metadata": {},
   "outputs": [
    {
     "name": "stdout",
     "output_type": "stream",
     "text": [
      "[2, 4, 6, 8, 10, 12, 14, 16, 18]\n",
      "[1, 3, 5, 7, 9, 11, 13, 15, 17, 19]\n"
     ]
    }
   ],
   "source": [
    "even_oddarray()\n",
    "print(even)\n",
    "print(odd)"
   ]
  },
  {
   "cell_type": "markdown",
   "id": "0e64a09f",
   "metadata": {},
   "source": [
    "# Positional and keyword argument"
   ]
  },
  {
   "cell_type": "code",
   "execution_count": 18,
   "id": "c33efab7",
   "metadata": {},
   "outputs": [],
   "source": [
    "def Hello_world(name,age=24):\n",
    "     print(\"My name is {}, and my age is {}\".format(name,age))\n"
   ]
  },
  {
   "cell_type": "code",
   "execution_count": 20,
   "id": "25b47569",
   "metadata": {},
   "outputs": [
    {
     "name": "stdout",
     "output_type": "stream",
     "text": [
      "My name is Megha, and my age is 24\n"
     ]
    }
   ],
   "source": [
    "Hello_world(\"Megha\")"
   ]
  },
  {
   "cell_type": "markdown",
   "id": "4ec1556e",
   "metadata": {},
   "source": [
    "Here, name is positional argument and age is keyword argument as it is present in the form of key-value pair.\n",
    "We can make both the arguments as positional and keyword depending upon the situation"
   ]
  },
  {
   "cell_type": "code",
   "execution_count": 21,
   "id": "2b2ece3a",
   "metadata": {},
   "outputs": [],
   "source": [
    "def arg_functions(*args, **krgs):\n",
    "    print(args)\n",
    "    print(krgs)"
   ]
  },
  {
   "cell_type": "code",
   "execution_count": 22,
   "id": "0dccc1c7",
   "metadata": {},
   "outputs": [
    {
     "name": "stdout",
     "output_type": "stream",
     "text": [
      "('Megha', 'Sharma')\n",
      "{'age': 24, 'dob': 20}\n"
     ]
    }
   ],
   "source": [
    "arg_functions(\"Megha\", \"Sharma\", age=24, dob=20)"
   ]
  },
  {
   "cell_type": "code",
   "execution_count": 24,
   "id": "bc78fb5e",
   "metadata": {},
   "outputs": [
    {
     "name": "stdout",
     "output_type": "stream",
     "text": [
      "('Megha', 'Sharma')\n",
      "{'age': 24, 'dob': 20}\n"
     ]
    }
   ],
   "source": [
    "args=[\"Megha\", \"Sharma\"]\n",
    "krgs={'age': 24, 'dob': 20}\n",
    "arg_functions(*args, **krgs)"
   ]
  },
  {
   "cell_type": "code",
   "execution_count": 25,
   "id": "26a3b755",
   "metadata": {},
   "outputs": [
    {
     "name": "stdout",
     "output_type": "stream",
     "text": [
      "(['Megha', 'Sharma'], {'age': 24, 'dob': 20})\n",
      "{}\n"
     ]
    }
   ],
   "source": [
    "args=[\"Megha\", \"Sharma\"]\n",
    "krgs={'age': 24, 'dob': 20}\n",
    "arg_functions(args, krgs)"
   ]
  },
  {
   "cell_type": "markdown",
   "id": "e22d318e",
   "metadata": {},
   "source": [
    "* is important otherwise, python will take both argumnets as positional arguments"
   ]
  },
  {
   "cell_type": "code",
   "execution_count": 31,
   "id": "1c157ba8",
   "metadata": {},
   "outputs": [
    {
     "data": {
      "text/plain": [
       "list"
      ]
     },
     "execution_count": 31,
     "metadata": {},
     "output_type": "execute_result"
    }
   ],
   "source": [
    "type(args)"
   ]
  },
  {
   "cell_type": "code",
   "execution_count": 41,
   "id": "2821932c",
   "metadata": {},
   "outputs": [],
   "source": [
    "lst = [1,2,3,4,5,6,7]\n",
    "def evenodd_sum(lst):\n",
    "    even_sum=0\n",
    "    odd_sum=0\n",
    "    for i in lst:\n",
    "        if i%2==0:\n",
    "            even_sum = even_sum+i\n",
    "        else:\n",
    "            odd_sum = odd_sum+i\n",
    "    return even_sum, odd_sum        \n",
    "            \n",
    "            \n",
    "            "
   ]
  },
  {
   "cell_type": "code",
   "execution_count": 42,
   "id": "e18dea31",
   "metadata": {},
   "outputs": [
    {
     "data": {
      "text/plain": [
       "(12, 16)"
      ]
     },
     "execution_count": 42,
     "metadata": {},
     "output_type": "execute_result"
    }
   ],
   "source": [
    "evenodd_sum(lst)"
   ]
  },
  {
   "cell_type": "markdown",
   "id": "f7539086",
   "metadata": {},
   "source": [
    "Returning multiple outputs from a function"
   ]
  },
  {
   "cell_type": "markdown",
   "id": "4d3a5b4c",
   "metadata": {},
   "source": [
    "# Lamba function"
   ]
  },
  {
   "cell_type": "markdown",
   "id": "4255b5ff",
   "metadata": {},
   "source": [
    "Also called as anonymous function \n",
    "\n",
    "A function with no name \n",
    "\n",
    "Faster than other normal functions"
   ]
  },
  {
   "cell_type": "code",
   "execution_count": 43,
   "id": "7bc7aef7",
   "metadata": {},
   "outputs": [],
   "source": [
    "#normal function\n",
    "def addition(a,b):\n",
    "     return a+b"
   ]
  },
  {
   "cell_type": "code",
   "execution_count": 44,
   "id": "65caa98e",
   "metadata": {},
   "outputs": [
    {
     "data": {
      "text/plain": [
       "211"
      ]
     },
     "execution_count": 44,
     "metadata": {},
     "output_type": "execute_result"
    }
   ],
   "source": [
    "addition(122,89)"
   ]
  },
  {
   "cell_type": "markdown",
   "id": "c506f6d9",
   "metadata": {},
   "source": [
    "This is a normal function wehre in we have a single expression. \n",
    "\n",
    "Lambda functions can be used where we have only a single expression. No where else we can use lambda functions else the mention condition.\n"
   ]
  },
  {
   "cell_type": "code",
   "execution_count": 55,
   "id": "27b44767",
   "metadata": {},
   "outputs": [
    {
     "data": {
      "text/plain": [
       "211"
      ]
     },
     "execution_count": 55,
     "metadata": {},
     "output_type": "execute_result"
    }
   ],
   "source": [
    "#lambda function\n",
    "addition = lambda a,b:a+b\n",
    "addition(122,89)"
   ]
  },
  {
   "cell_type": "code",
   "execution_count": 49,
   "id": "07a4ef25",
   "metadata": {},
   "outputs": [],
   "source": [
    "#normal function\n",
    "def even_num(num):\n",
    "    if num%2==0:\n",
    "        return True"
   ]
  },
  {
   "cell_type": "code",
   "execution_count": 52,
   "id": "ee48d764",
   "metadata": {},
   "outputs": [
    {
     "data": {
      "text/plain": [
       "True"
      ]
     },
     "execution_count": 52,
     "metadata": {},
     "output_type": "execute_result"
    }
   ],
   "source": [
    "even_num(38)"
   ]
  },
  {
   "cell_type": "code",
   "execution_count": 56,
   "id": "9f642d8c",
   "metadata": {},
   "outputs": [
    {
     "data": {
      "text/plain": [
       "True"
      ]
     },
     "execution_count": 56,
     "metadata": {},
     "output_type": "execute_result"
    }
   ],
   "source": [
    "#lambda function\n",
    "even_nmber = lambda num:num%2==0\n",
    "even_nmber(24)"
   ]
  },
  {
   "cell_type": "markdown",
   "id": "88568436",
   "metadata": {},
   "source": [
    "# Map Function"
   ]
  },
  {
   "cell_type": "code",
   "execution_count": 70,
   "id": "cf3de725",
   "metadata": {},
   "outputs": [],
   "source": [
    "def even_odd(number):\n",
    "    if number%2==0:\n",
    "        return \"The number {} is Even\".format(number)\n",
    "    else:\n",
    "        return \"The number {} is Odd\".format(number)"
   ]
  },
  {
   "cell_type": "code",
   "execution_count": 58,
   "id": "8d1f4441",
   "metadata": {},
   "outputs": [
    {
     "name": "stdout",
     "output_type": "stream",
     "text": [
      "The number 45 is Odd\n"
     ]
    }
   ],
   "source": [
    "even_odd(45)"
   ]
  },
  {
   "cell_type": "code",
   "execution_count": 68,
   "id": "42cf9211",
   "metadata": {},
   "outputs": [
    {
     "data": {
      "text/plain": [
       "<map at 0x247ac81c370>"
      ]
     },
     "execution_count": 68,
     "metadata": {},
     "output_type": "execute_result"
    }
   ],
   "source": [
    "lst = [34,78,44,9766,6446,97,6,3,6789,9532,53,1,4,876,94,465,78956,976]\n",
    "map(even_odd,lst)"
   ]
  },
  {
   "cell_type": "markdown",
   "id": "0b8c5bcb",
   "metadata": {},
   "source": [
    "Lazy loading \n",
    "\n",
    "Output is generated at this location."
   ]
  },
  {
   "cell_type": "code",
   "execution_count": 71,
   "id": "b98f5bb0",
   "metadata": {},
   "outputs": [
    {
     "data": {
      "text/plain": [
       "['The number 34 is Even',\n",
       " 'The number 78 is Even',\n",
       " 'The number 44 is Even',\n",
       " 'The number 9766 is Even',\n",
       " 'The number 6446 is Even',\n",
       " 'The number 97 is Odd',\n",
       " 'The number 6 is Even',\n",
       " 'The number 3 is Odd',\n",
       " 'The number 6789 is Odd',\n",
       " 'The number 9532 is Even',\n",
       " 'The number 53 is Odd',\n",
       " 'The number 1 is Odd',\n",
       " 'The number 4 is Even',\n",
       " 'The number 876 is Even',\n",
       " 'The number 94 is Even',\n",
       " 'The number 465 is Odd',\n",
       " 'The number 78956 is Even',\n",
       " 'The number 976 is Even']"
      ]
     },
     "execution_count": 71,
     "metadata": {},
     "output_type": "execute_result"
    }
   ],
   "source": [
    "lst = [34,78,44,9766,6446,97,6,3,6789,9532,53,1,4,876,94,465,78956,976]\n",
    "list(map(even_odd,lst))"
   ]
  },
  {
   "cell_type": "markdown",
   "id": "6a91fb53",
   "metadata": {},
   "source": [
    "# Filter Functions "
   ]
  },
  {
   "cell_type": "code",
   "execution_count": 77,
   "id": "35f9b3dd",
   "metadata": {},
   "outputs": [],
   "source": [
    "def even(num):\n",
    "    if num%2==0:\n",
    "        return True"
   ]
  },
  {
   "cell_type": "code",
   "execution_count": 78,
   "id": "b19d82d5",
   "metadata": {},
   "outputs": [],
   "source": [
    "lst = [34,78,44,9766,6446,97,6,3,6789,9532,53,1,4,876,94,465,78956,976]"
   ]
  },
  {
   "cell_type": "code",
   "execution_count": 79,
   "id": "47619d54",
   "metadata": {},
   "outputs": [
    {
     "data": {
      "text/plain": [
       "[34, 78, 44, 9766, 6446, 6, 9532, 4, 876, 94, 78956, 976]"
      ]
     },
     "execution_count": 79,
     "metadata": {},
     "output_type": "execute_result"
    }
   ],
   "source": [
    "list(filter(even,lst))"
   ]
  },
  {
   "cell_type": "markdown",
   "id": "11b8e806",
   "metadata": {},
   "source": [
    "Filtering and giving only even numbers in the list."
   ]
  },
  {
   "cell_type": "markdown",
   "id": "3c9ff9a6",
   "metadata": {},
   "source": [
    "Using lambda function"
   ]
  },
  {
   "cell_type": "code",
   "execution_count": 80,
   "id": "fc66ce87",
   "metadata": {},
   "outputs": [
    {
     "data": {
      "text/plain": [
       "[34, 78, 44, 9766, 6446, 6, 9532, 4, 876, 94, 78956, 976]"
      ]
     },
     "execution_count": 80,
     "metadata": {},
     "output_type": "execute_result"
    }
   ],
   "source": [
    "list(filter(lambda num:num%2==0, lst))"
   ]
  },
  {
   "cell_type": "markdown",
   "id": "6737dfeb",
   "metadata": {},
   "source": [
    "Difference between using map and filter function"
   ]
  },
  {
   "cell_type": "code",
   "execution_count": 81,
   "id": "6224d47c",
   "metadata": {},
   "outputs": [
    {
     "data": {
      "text/plain": [
       "[True,\n",
       " True,\n",
       " True,\n",
       " True,\n",
       " True,\n",
       " False,\n",
       " True,\n",
       " False,\n",
       " False,\n",
       " True,\n",
       " False,\n",
       " False,\n",
       " True,\n",
       " True,\n",
       " True,\n",
       " False,\n",
       " True,\n",
       " True]"
      ]
     },
     "execution_count": 81,
     "metadata": {},
     "output_type": "execute_result"
    }
   ],
   "source": [
    "list(map(lambda num:num%2==0, lst))"
   ]
  },
  {
   "cell_type": "markdown",
   "id": "518c0dfd",
   "metadata": {},
   "source": [
    "map function will provide a list of all the results but filter function will filter and slect only even numbers and generate output."
   ]
  },
  {
   "cell_type": "code",
   "execution_count": null,
   "id": "7814f4ee",
   "metadata": {},
   "outputs": [],
   "source": []
  }
 ],
 "metadata": {
  "kernelspec": {
   "display_name": "Python 3 (ipykernel)",
   "language": "python",
   "name": "python3"
  },
  "language_info": {
   "codemirror_mode": {
    "name": "ipython",
    "version": 3
   },
   "file_extension": ".py",
   "mimetype": "text/x-python",
   "name": "python",
   "nbconvert_exporter": "python",
   "pygments_lexer": "ipython3",
   "version": "3.10.9"
  }
 },
 "nbformat": 4,
 "nbformat_minor": 5
}
