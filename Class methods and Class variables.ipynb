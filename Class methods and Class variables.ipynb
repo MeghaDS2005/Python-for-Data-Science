{
 "cells": [
  {
   "cell_type": "markdown",
   "id": "fd31e016",
   "metadata": {},
   "source": [
    "# Class methods and Class variables"
   ]
  },
  {
   "cell_type": "code",
   "execution_count": 1,
   "id": "a6d0e12c",
   "metadata": {},
   "outputs": [],
   "source": [
    "class cars:\n",
    "    base_price=1000 ##class variables\n",
    "    #initialization constructor\n",
    "    def __init__(self,windows,doors,engine_type,model):\n",
    "          self.windows=windows\n",
    "          self.doors=doors\n",
    "          self.engine_type=engine_type\n",
    "          self.model=model\n",
    "            \n",
    "    def what_isbaseprice(self):\n",
    "         print(\"The base price is\".format(self.base_price))\n",
    "         \n",
    "   "
   ]
  },
  {
   "cell_type": "code",
   "execution_count": 2,
   "id": "f9fffa95",
   "metadata": {},
   "outputs": [],
   "source": [
    "c=cars(4,5,\"Diesel\",\"Audi\")"
   ]
  },
  {
   "cell_type": "code",
   "execution_count": 3,
   "id": "0eb30dc6",
   "metadata": {},
   "outputs": [
    {
     "data": {
      "text/plain": [
       "<__main__.cars at 0x1d6309da890>"
      ]
     },
     "execution_count": 3,
     "metadata": {},
     "output_type": "execute_result"
    }
   ],
   "source": [
    "c"
   ]
  },
  {
   "cell_type": "code",
   "execution_count": 4,
   "id": "1bcb7e38",
   "metadata": {},
   "outputs": [
    {
     "data": {
      "text/plain": [
       "1000"
      ]
     },
     "execution_count": 4,
     "metadata": {},
     "output_type": "execute_result"
    }
   ],
   "source": [
    "#calling object\n",
    "c.base_price"
   ]
  },
  {
   "cell_type": "code",
   "execution_count": 5,
   "id": "13ce217d",
   "metadata": {},
   "outputs": [
    {
     "data": {
      "text/plain": [
       "1000"
      ]
     },
     "execution_count": 5,
     "metadata": {},
     "output_type": "execute_result"
    }
   ],
   "source": [
    "#calling cars class itself\n",
    "cars.base_price"
   ]
  },
  {
   "cell_type": "code",
   "execution_count": 11,
   "id": "4bde9ea7",
   "metadata": {},
   "outputs": [],
   "source": [
    "class cars:\n",
    "    base_price=1000 ##class variables\n",
    "    #initialization constructor\n",
    "    def __init__(self,windows,doors,engine_type,model):\n",
    "          self.windows=windows\n",
    "          self.doors=doors\n",
    "          self.engine_type=engine_type\n",
    "          self.model=model\n",
    "            \n",
    "    def what_isbaseprice(self):\n",
    "         print(\"The base price is\".format(self.base_price))\n",
    "            #adding inflation rate every year changing the base price\n",
    "    @classmethod     \n",
    "    def revise_base_price(cls, inflation):\n",
    "        cls.base_price=cls.base_price+cls.base_price*inflation\n",
    "        "
   ]
  },
  {
   "cell_type": "markdown",
   "id": "f501937b",
   "metadata": {},
   "source": [
    "self: w.r.t the instance of the class\n",
    "whenever using cls: w.r.t the class type(directly referring the class cars)"
   ]
  },
  {
   "cell_type": "code",
   "execution_count": 12,
   "id": "3d2dd7ce",
   "metadata": {},
   "outputs": [],
   "source": [
    "car1=cars(5,4,\"Petrol\",\"Audi\")"
   ]
  },
  {
   "cell_type": "code",
   "execution_count": 13,
   "id": "37bf2251",
   "metadata": {},
   "outputs": [
    {
     "data": {
      "text/plain": [
       "1000"
      ]
     },
     "execution_count": 13,
     "metadata": {},
     "output_type": "execute_result"
    }
   ],
   "source": [
    "car1.base_price"
   ]
  },
  {
   "cell_type": "code",
   "execution_count": 14,
   "id": "c6d1d3cc",
   "metadata": {},
   "outputs": [],
   "source": [
    "cars.revise_base_price(0.20)"
   ]
  },
  {
   "cell_type": "code",
   "execution_count": 15,
   "id": "e866f8ea",
   "metadata": {},
   "outputs": [
    {
     "data": {
      "text/plain": [
       "1200.0"
      ]
     },
     "execution_count": 15,
     "metadata": {},
     "output_type": "execute_result"
    }
   ],
   "source": [
    "cars.base_price"
   ]
  },
  {
   "cell_type": "code",
   "execution_count": null,
   "id": "d74275b4",
   "metadata": {},
   "outputs": [],
   "source": []
  }
 ],
 "metadata": {
  "kernelspec": {
   "display_name": "Python 3 (ipykernel)",
   "language": "python",
   "name": "python3"
  },
  "language_info": {
   "codemirror_mode": {
    "name": "ipython",
    "version": 3
   },
   "file_extension": ".py",
   "mimetype": "text/x-python",
   "name": "python",
   "nbconvert_exporter": "python",
   "pygments_lexer": "ipython3",
   "version": "3.10.9"
  }
 },
 "nbformat": 4,
 "nbformat_minor": 5
}
