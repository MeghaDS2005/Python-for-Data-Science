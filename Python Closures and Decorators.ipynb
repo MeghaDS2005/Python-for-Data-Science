{
 "cells": [
  {
   "cell_type": "markdown",
   "id": "89237418",
   "metadata": {},
   "source": [
    "# Python Closures and Decorators"
   ]
  },
  {
   "cell_type": "code",
   "execution_count": 27,
   "id": "4677321d",
   "metadata": {},
   "outputs": [],
   "source": [
    "def Welcome():\n",
    "    return \"Welcome, my name is Megha Sharma\""
   ]
  },
  {
   "cell_type": "code",
   "execution_count": 28,
   "id": "5e075b89",
   "metadata": {},
   "outputs": [
    {
     "data": {
      "text/plain": [
       "'Welcome, my name is Megha Sharma'"
      ]
     },
     "execution_count": 28,
     "metadata": {},
     "output_type": "execute_result"
    }
   ],
   "source": [
    "Welcome()"
   ]
  },
  {
   "cell_type": "code",
   "execution_count": 29,
   "id": "769952af",
   "metadata": {},
   "outputs": [],
   "source": [
    "wel=Welcome()\n",
    "del Welcome"
   ]
  },
  {
   "cell_type": "code",
   "execution_count": 30,
   "id": "620d9da8",
   "metadata": {},
   "outputs": [
    {
     "data": {
      "text/plain": [
       "'Welcome, my name is Megha Sharma'"
      ]
     },
     "execution_count": 30,
     "metadata": {},
     "output_type": "execute_result"
    }
   ],
   "source": [
    "wel"
   ]
  },
  {
   "cell_type": "markdown",
   "id": "b9c7ba56",
   "metadata": {},
   "source": [
    "wel is a function copy so even after deleting the function, wel would have the copied value."
   ]
  },
  {
   "cell_type": "code",
   "execution_count": 31,
   "id": "a693f1e6",
   "metadata": {},
   "outputs": [
    {
     "ename": "NameError",
     "evalue": "name 'Welcome' is not defined",
     "output_type": "error",
     "traceback": [
      "\u001b[1;31m---------------------------------------------------------------------------\u001b[0m",
      "\u001b[1;31mNameError\u001b[0m                                 Traceback (most recent call last)",
      "Cell \u001b[1;32mIn[31], line 1\u001b[0m\n\u001b[1;32m----> 1\u001b[0m \u001b[43mWelcome\u001b[49m()\n",
      "\u001b[1;31mNameError\u001b[0m: name 'Welcome' is not defined"
     ]
    }
   ],
   "source": [
    "Welcome()"
   ]
  },
  {
   "cell_type": "markdown",
   "id": "0550b056",
   "metadata": {},
   "source": [
    "# Closures"
   ]
  },
  {
   "cell_type": "markdown",
   "id": "67945913",
   "metadata": {},
   "source": [
    "Closure in Python is an inner function object, a function that behaves like an object, that remembers and has access to variables in the local scope in which it was created even after the outer function has finished executing."
   ]
  },
  {
   "cell_type": "code",
   "execution_count": 32,
   "id": "fcc1b0c7",
   "metadata": {},
   "outputs": [],
   "source": [
    "def main_wel(msg):\n",
    "    def sub_wel_class():\n",
    "        print(\"Hello Everyome\")\n",
    "        print(msg)\n",
    "        print(\"Welcome, my name is Megha Sharma\")\n",
    "    return sub_wel_class()"
   ]
  },
  {
   "cell_type": "code",
   "execution_count": 33,
   "id": "0683e2e7",
   "metadata": {},
   "outputs": [
    {
     "name": "stdout",
     "output_type": "stream",
     "text": [
      "Hello Everyome\n",
      "Megha\n",
      "Welcome, my name is Megha Sharma\n"
     ]
    }
   ],
   "source": [
    "main_wel(\"Megha\")"
   ]
  },
  {
   "cell_type": "markdown",
   "id": "48f43d42",
   "metadata": {},
   "source": [
    "The main purpose of using closures is that we can access the the variables defined in the main function from the inner function by just providing the argumnets while calling the main function."
   ]
  },
  {
   "cell_type": "code",
   "execution_count": 34,
   "id": "474d2551",
   "metadata": {},
   "outputs": [],
   "source": [
    "def main_wel(func):\n",
    "    def sub_wel_class():\n",
    "        print(\"Hello Everyome\")\n",
    "        func(\"Python programming\")\n",
    "        print(\"Welcome, my name is Megha Sharma\")\n",
    "    return sub_wel_class()"
   ]
  },
  {
   "cell_type": "code",
   "execution_count": 35,
   "id": "72fef38e",
   "metadata": {},
   "outputs": [
    {
     "name": "stdout",
     "output_type": "stream",
     "text": [
      "Hello Everyome\n",
      "Python programming\n",
      "Welcome, my name is Megha Sharma\n"
     ]
    }
   ],
   "source": [
    "main_wel(print)"
   ]
  },
  {
   "cell_type": "markdown",
   "id": "6c57b21b",
   "metadata": {},
   "source": [
    "# Decorators"
   ]
  },
  {
   "cell_type": "markdown",
   "id": "6b155137",
   "metadata": {},
   "source": [
    "You'll use a decorator when you need to change the behavior of a function without modifying the function itself. A few good examples are when you want to add logging, test performance, perform caching, verify permissions, and so on. You can also use one when you need to run the same code on multiple functions."
   ]
  },
  {
   "cell_type": "code",
   "execution_count": 44,
   "id": "efb118a8",
   "metadata": {},
   "outputs": [],
   "source": [
    "#closures and initial decorators\n",
    "def main_wel(func):\n",
    "    def sub_wel_class():\n",
    "        print(\"Hello Everyome\")\n",
    "        print(func([1,2,3,4,5,6,7]))\n",
    "        print(\"Welcome, my name is Megha Sharma\")\n",
    "    return sub_wel_class()"
   ]
  },
  {
   "cell_type": "code",
   "execution_count": 45,
   "id": "ebb851a2",
   "metadata": {},
   "outputs": [
    {
     "name": "stdout",
     "output_type": "stream",
     "text": [
      "Hello Everyome\n",
      "7\n",
      "Welcome, my name is Megha Sharma\n"
     ]
    }
   ],
   "source": [
    "main_wel(len)"
   ]
  },
  {
   "cell_type": "markdown",
   "id": "d4094020",
   "metadata": {},
   "source": [
    "One way of using decorators"
   ]
  },
  {
   "cell_type": "code",
   "execution_count": 46,
   "id": "98581bb1",
   "metadata": {},
   "outputs": [],
   "source": [
    "#decorators\n",
    "def main_wel(func):\n",
    "    def sub_wel_class():\n",
    "        print(\"Hello Everyome\")\n",
    "        func()\n",
    "        print(\"Welcome, my name is Megha Sharma\")\n",
    "    return sub_wel_class()"
   ]
  },
  {
   "cell_type": "code",
   "execution_count": 47,
   "id": "dc6aff59",
   "metadata": {},
   "outputs": [],
   "source": [
    "def abc():\n",
    "    print(\"I am a data scientist\")\n"
   ]
  },
  {
   "cell_type": "code",
   "execution_count": 48,
   "id": "f7c04b81",
   "metadata": {},
   "outputs": [
    {
     "name": "stdout",
     "output_type": "stream",
     "text": [
      "Hello Everyome\n",
      "I am a data scientist\n",
      "Welcome, my name is Megha Sharma\n"
     ]
    }
   ],
   "source": [
    "main_wel(abc)"
   ]
  },
  {
   "cell_type": "markdown",
   "id": "fc4dadf2",
   "metadata": {},
   "source": [
    "Another way of using a decorator"
   ]
  },
  {
   "cell_type": "code",
   "execution_count": 50,
   "id": "4fbaf7ed",
   "metadata": {},
   "outputs": [
    {
     "name": "stdout",
     "output_type": "stream",
     "text": [
      "Hello Everyome\n",
      "I am a data scientist\n",
      "Welcome, my name is Megha Sharma\n"
     ]
    }
   ],
   "source": [
    "@main_wel\n",
    "def abc():\n",
    "    print(\"I am a data scientist\")"
   ]
  },
  {
   "cell_type": "code",
   "execution_count": null,
   "id": "af603fef",
   "metadata": {},
   "outputs": [],
   "source": []
  }
 ],
 "metadata": {
  "kernelspec": {
   "display_name": "Python 3 (ipykernel)",
   "language": "python",
   "name": "python3"
  },
  "language_info": {
   "codemirror_mode": {
    "name": "ipython",
    "version": 3
   },
   "file_extension": ".py",
   "mimetype": "text/x-python",
   "name": "python",
   "nbconvert_exporter": "python",
   "pygments_lexer": "ipython3",
   "version": "3.10.9"
  }
 },
 "nbformat": 4,
 "nbformat_minor": 5
}
