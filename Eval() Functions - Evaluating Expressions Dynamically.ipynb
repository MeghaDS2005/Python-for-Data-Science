{
 "cells": [
  {
   "cell_type": "markdown",
   "id": "4aa5c5b3",
   "metadata": {},
   "source": [
    "# Python Eval function - Evaluating Expressions Dynamically"
   ]
  },
  {
   "cell_type": "markdown",
   "id": "133675af",
   "metadata": {},
   "source": [
    "The source may be a string representing a Python expression\n",
    "or a code object as returned by compile().\n",
    "eval() function evaluate python expression which are written as strings."
   ]
  },
  {
   "cell_type": "code",
   "execution_count": 1,
   "id": "702832f4",
   "metadata": {},
   "outputs": [
    {
     "ename": "TypeError",
     "evalue": "eval() arg 1 must be a string, bytes or code object",
     "output_type": "error",
     "traceback": [
      "\u001b[1;31m---------------------------------------------------------------------------\u001b[0m",
      "\u001b[1;31mTypeError\u001b[0m                                 Traceback (most recent call last)",
      "Cell \u001b[1;32mIn[1], line 1\u001b[0m\n\u001b[1;32m----> 1\u001b[0m \u001b[38;5;28;43meval\u001b[39;49m\u001b[43m(\u001b[49m\u001b[38;5;241;43m5\u001b[39;49m\u001b[38;5;241;43m*\u001b[39;49m\u001b[38;5;241;43m5\u001b[39;49m\u001b[43m)\u001b[49m\n",
      "\u001b[1;31mTypeError\u001b[0m: eval() arg 1 must be a string, bytes or code object"
     ]
    }
   ],
   "source": [
    "eval(5*5)"
   ]
  },
  {
   "cell_type": "code",
   "execution_count": 2,
   "id": "04f810a2",
   "metadata": {},
   "outputs": [
    {
     "data": {
      "text/plain": [
       "25"
      ]
     },
     "execution_count": 2,
     "metadata": {},
     "output_type": "execute_result"
    }
   ],
   "source": [
    "eval(\"5*5\")"
   ]
  },
  {
   "cell_type": "markdown",
   "id": "5052d586",
   "metadata": {},
   "source": [
    "Python's eval() allows you to evaluate arbitrary Python expressions from a string-based or compiled-code-based input. This function can be handy when you're trying to dynamically evaluate Python expressions from any input that comes as a string or a compiled code object."
   ]
  },
  {
   "cell_type": "code",
   "execution_count": 4,
   "id": "dd8e0895",
   "metadata": {},
   "outputs": [
    {
     "name": "stdout",
     "output_type": "stream",
     "text": [
      "Enter the python expression5*8\n"
     ]
    },
    {
     "data": {
      "text/plain": [
       "40"
      ]
     },
     "execution_count": 4,
     "metadata": {},
     "output_type": "execute_result"
    }
   ],
   "source": [
    "eval(input(\"Enter the python expression\"))"
   ]
  },
  {
   "cell_type": "code",
   "execution_count": 6,
   "id": "3915b8dd",
   "metadata": {},
   "outputs": [
    {
     "name": "stdout",
     "output_type": "stream",
     "text": [
      "Enter the python expressionlen([1,2,3,4,5,6])\n"
     ]
    },
    {
     "data": {
      "text/plain": [
       "6"
      ]
     },
     "execution_count": 6,
     "metadata": {},
     "output_type": "execute_result"
    }
   ],
   "source": [
    "eval(input(\"Enter the python expression\"))"
   ]
  },
  {
   "cell_type": "code",
   "execution_count": 10,
   "id": "dfc70b55",
   "metadata": {},
   "outputs": [
    {
     "name": "stdout",
     "output_type": "stream",
     "text": [
      "Enter the python expression sum([1,2,3,4,50])\n"
     ]
    },
    {
     "data": {
      "text/plain": [
       "60"
      ]
     },
     "execution_count": 10,
     "metadata": {},
     "output_type": "execute_result"
    }
   ],
   "source": [
    "eval(input(\"Enter the python expression \"))"
   ]
  },
  {
   "cell_type": "code",
   "execution_count": 16,
   "id": "bc6896af",
   "metadata": {},
   "outputs": [],
   "source": [
    "def square_num(num):\n",
    "    return num**2\n",
    "    "
   ]
  },
  {
   "cell_type": "code",
   "execution_count": 17,
   "id": "f10f4058",
   "metadata": {},
   "outputs": [
    {
     "data": {
      "text/plain": [
       "7921"
      ]
     },
     "execution_count": 17,
     "metadata": {},
     "output_type": "execute_result"
    }
   ],
   "source": [
    "eval(\"square_num(89)\")"
   ]
  },
  {
   "cell_type": "markdown",
   "id": "9d0effc6",
   "metadata": {},
   "source": [
    "# Eval() working\n",
    "\n",
    "1. Parse the python expression\n",
    "\n",
    "2. Compile into a byte code\n",
    "\n",
    "3. Evaluate the python expression\n",
    "\n",
    "4. It will return the result\n",
    "\n",
    "Signature: eval(source, globals=None, locals=None, /)\n",
    "source: python expressions"
   ]
  },
  {
   "cell_type": "code",
   "execution_count": 18,
   "id": "f549a37a",
   "metadata": {},
   "outputs": [],
   "source": [
    "#eval() uses compile function to parse the expression(string expression) into a byte code.\n",
    "var=compile(\"5*5\", \"<string>\", \"eval\")"
   ]
  },
  {
   "cell_type": "code",
   "execution_count": 19,
   "id": "4d2b15db",
   "metadata": {},
   "outputs": [
    {
     "data": {
      "text/plain": [
       "<code object <module> at 0x0000027D683928C0, file \"<string>\", line 1>"
      ]
     },
     "execution_count": 19,
     "metadata": {},
     "output_type": "execute_result"
    }
   ],
   "source": [
    "var"
   ]
  },
  {
   "cell_type": "code",
   "execution_count": 20,
   "id": "536396cd",
   "metadata": {},
   "outputs": [
    {
     "data": {
      "text/plain": [
       "25"
      ]
     },
     "execution_count": 20,
     "metadata": {},
     "output_type": "execute_result"
    }
   ],
   "source": [
    "eval(var)"
   ]
  },
  {
   "cell_type": "code",
   "execution_count": 22,
   "id": "0227f8e2",
   "metadata": {},
   "outputs": [
    {
     "data": {
      "text/plain": [
       "180"
      ]
     },
     "execution_count": 22,
     "metadata": {},
     "output_type": "execute_result"
    }
   ],
   "source": [
    "# Globals\n",
    "eval(\"x+50+20+x**2\",{\"x\":10})"
   ]
  },
  {
   "cell_type": "code",
   "execution_count": 24,
   "id": "d0f16d43",
   "metadata": {},
   "outputs": [
    {
     "data": {
      "text/plain": [
       "180"
      ]
     },
     "execution_count": 24,
     "metadata": {},
     "output_type": "execute_result"
    }
   ],
   "source": [
    "x=10\n",
    "eval(\"x+50+20+x**2\",{\"x\":x})"
   ]
  },
  {
   "cell_type": "code",
   "execution_count": 28,
   "id": "769531a4",
   "metadata": {},
   "outputs": [
    {
     "data": {
      "text/plain": [
       "3489405"
      ]
     },
     "execution_count": 28,
     "metadata": {},
     "output_type": "execute_result"
    }
   ],
   "source": [
    "x=1765\n",
    "z=1976\n",
    "eval(\"x+x*z\",{\"x\":x},{\"z\":z})"
   ]
  },
  {
   "cell_type": "code",
   "execution_count": 29,
   "id": "50b38a47",
   "metadata": {},
   "outputs": [
    {
     "data": {
      "text/plain": [
       "3489405"
      ]
     },
     "execution_count": 29,
     "metadata": {},
     "output_type": "execute_result"
    }
   ],
   "source": [
    "x=1765\n",
    "z=1976\n",
    "eval(\"x+x*z\",{\"x\":x,\"z\":z})"
   ]
  },
  {
   "cell_type": "code",
   "execution_count": 30,
   "id": "e6b13fd4",
   "metadata": {},
   "outputs": [
    {
     "data": {
      "text/plain": [
       "3489405"
      ]
     },
     "execution_count": 30,
     "metadata": {},
     "output_type": "execute_result"
    }
   ],
   "source": [
    "#because we have already defined the values of x and z\n",
    "x=1765\n",
    "z=1976\n",
    "eval(\"x+x*z\")"
   ]
  },
  {
   "cell_type": "code",
   "execution_count": 32,
   "id": "3117aa9c",
   "metadata": {},
   "outputs": [
    {
     "ename": "NameError",
     "evalue": "name 'x' is not defined",
     "output_type": "error",
     "traceback": [
      "\u001b[1;31m---------------------------------------------------------------------------\u001b[0m",
      "\u001b[1;31mNameError\u001b[0m                                 Traceback (most recent call last)",
      "Cell \u001b[1;32mIn[32], line 4\u001b[0m\n\u001b[0;32m      2\u001b[0m x\u001b[38;5;241m=\u001b[39m\u001b[38;5;241m100\u001b[39m\n\u001b[0;32m      3\u001b[0m y\u001b[38;5;241m=\u001b[39m\u001b[38;5;241m200\u001b[39m\n\u001b[1;32m----> 4\u001b[0m \u001b[38;5;28;43meval\u001b[39;49m\u001b[43m(\u001b[49m\u001b[38;5;124;43m\"\u001b[39;49m\u001b[38;5;124;43mx+y\u001b[39;49m\u001b[38;5;124;43m\"\u001b[39;49m\u001b[43m,\u001b[49m\u001b[43m{\u001b[49m\u001b[43m}\u001b[49m\u001b[43m,\u001b[49m\u001b[43m{\u001b[49m\u001b[43m}\u001b[49m\u001b[43m)\u001b[49m\n",
      "File \u001b[1;32m<string>:1\u001b[0m\n",
      "\u001b[1;31mNameError\u001b[0m: name 'x' is not defined"
     ]
    }
   ],
   "source": [
    "#This technique is called as restricting local and global variables\n",
    "x=100\n",
    "y=200\n",
    "eval(\"x+y\",{},{})"
   ]
  },
  {
   "cell_type": "markdown",
   "id": "4d93b743",
   "metadata": {},
   "source": [
    "# Warnings when using eval()\n",
    "Consider a situation where you are using a Unix system (macOS, Linux etc) and you have imported the os module. The os module provides a portable way to use operating system functionalities like reading or writing to a file.\n",
    "\n",
    "If you allow users to input a value using eval(input()), the user may issue commands to change file or even delete all the files using the command: os.system('rm -rf *').\n",
    "\n",
    "If you are using eval(input()) in your code, it is a good idea to check which variables and methods the user can use. You can see which variables and methods are available using dir() method."
   ]
  },
  {
   "cell_type": "markdown",
   "id": "9e1b4460",
   "metadata": {},
   "source": [
    "# Restricting the Use of Available Methods and Variables in eval()\n",
    "More often than not, all the available methods and variables used in the expression (first parameter to eval()) may not be needed, or even may have a security hole. You may need to restrict the use of these methods and variables for eval(). You can do so by passing optional globals and locals parameters (dictionaries) to the eval() function."
   ]
  },
  {
   "cell_type": "markdown",
   "id": "05362b3b",
   "metadata": {},
   "source": [
    "# 1. When both globals and locals parameters omitted\n",
    "If both parameters are omitted (as in our earlier examples), the expression is executed in the current scope. You can check the available variables and methods using following code:\n",
    "\n",
    "print(eval('dir()')"
   ]
  },
  {
   "cell_type": "markdown",
   "id": "d4b44af3",
   "metadata": {},
   "source": [
    "# 2. Passing globals parameter; locals parameter is omitted\n",
    "The globals and locals parameters (dictionaries) are used for global and local variables respectively. If the locals dictionary is omitted, it defaults to globals dictionary. Meaning, globals will be used for both global and local variables.\n",
    "\n",
    "Note: You can check the current global and local dictionary in Python using globals() and locals() built-in methods respectively."
   ]
  },
  {
   "cell_type": "markdown",
   "id": "91b92fc1",
   "metadata": {},
   "source": [
    "# Perimeter of Square\n",
    "def calculatePerimeter(l):\n",
    "    return 4*l\n",
    "\n",
    "# Area of Square\n",
    "def calculateArea(l):\n",
    "    return l*l\n",
    "\n",
    "expression = input(\"Type a function: \")\n",
    "\n",
    "for l in range(1, 5):\n",
    "    if (expression == 'calculatePerimeter(l)'):\n",
    "        print(\"If length is \", l, \", Perimeter = \", eval(expression))\n",
    "    elif (expression == 'calculateArea(l)'):\n",
    "        print(\"If length is \", l, \", Area = \", eval(expression))\n",
    "    else:\n",
    "        print('Wrong Function')\n",
    "        break"
   ]
  },
  {
   "cell_type": "markdown",
   "id": "a6b0d9c1",
   "metadata": {},
   "source": [
    "# 3. Passing both globals and locals dictionary\n",
    "You can make needed functions and variables available for use by passing the locals dictionary. For example:\n",
    "\n",
    "In:from math import *\n",
    "\n",
    "a = 169\n",
    "\n",
    "print(eval('sqrt(a)', {'__builtins__': None}, {'a': a, 'sqrt': sqrt}))\n",
    "\n",
    "Run Code\n",
    "\n",
    "Output\n",
    "\n",
    "13.0\n",
    "\n",
    "In this program, expression can have sqrt() method and variable a only. All other methods and variables are unavailable.\n",
    "\n"
   ]
  },
  {
   "cell_type": "markdown",
   "id": "24345460",
   "metadata": {},
   "source": [
    "Restricting the use of eval() by passing globals and locals dictionaries will make your code secure particularly when you are using input provided by the user to the eval() method.\n",
    "\n",
    "Note: Sometimes, eval() is not secure even with limited names. When an object and its methods are made accessible, almost anything can be done. The only secure way is by validating the user input."
   ]
  },
  {
   "cell_type": "code",
   "execution_count": null,
   "id": "3054371f",
   "metadata": {},
   "outputs": [],
   "source": []
  }
 ],
 "metadata": {
  "kernelspec": {
   "display_name": "Python 3 (ipykernel)",
   "language": "python",
   "name": "python3"
  },
  "language_info": {
   "codemirror_mode": {
    "name": "ipython",
    "version": 3
   },
   "file_extension": ".py",
   "mimetype": "text/x-python",
   "name": "python",
   "nbconvert_exporter": "python",
   "pygments_lexer": "ipython3",
   "version": "3.10.9"
  }
 },
 "nbformat": 4,
 "nbformat_minor": 5
}
