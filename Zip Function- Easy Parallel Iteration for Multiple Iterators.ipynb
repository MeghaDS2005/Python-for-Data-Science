{
 "cells": [
  {
   "cell_type": "markdown",
   "id": "aa7f89b5",
   "metadata": {},
   "source": [
    "# Zip Function- Easy Parallel Iteration for Multiple Iterators"
   ]
  },
  {
   "cell_type": "markdown",
   "id": "e8371ea7",
   "metadata": {},
   "source": [
    "Python's zip() function creates an iterator that will aggregate elements from two or more iterables. You can use the resulting iterator to quickly and consistently solve common programming problems, like creating dictionaries.\n",
    "Zip object is an iterator"
   ]
  },
  {
   "cell_type": "code",
   "execution_count": 15,
   "id": "d86f4ce1",
   "metadata": {},
   "outputs": [],
   "source": [
    "lst1=['Megha','Mayank', 'Neha']\n",
    "lst2=['a','b','c']"
   ]
  },
  {
   "cell_type": "code",
   "execution_count": 16,
   "id": "f503e11c",
   "metadata": {},
   "outputs": [],
   "source": [
    "output=zip(lst1,lst2)"
   ]
  },
  {
   "cell_type": "code",
   "execution_count": 17,
   "id": "2f95e2c6",
   "metadata": {},
   "outputs": [
    {
     "data": {
      "text/plain": [
       "<zip at 0x2f8b414e5c0>"
      ]
     },
     "execution_count": 17,
     "metadata": {},
     "output_type": "execute_result"
    }
   ],
   "source": [
    "output"
   ]
  },
  {
   "cell_type": "code",
   "execution_count": 13,
   "id": "8481c14f",
   "metadata": {},
   "outputs": [
    {
     "data": {
      "text/plain": [
       "[('Megha', 'a'), ('Mayank', 'b'), ('Neha', 'c')]"
      ]
     },
     "execution_count": 13,
     "metadata": {},
     "output_type": "execute_result"
    }
   ],
   "source": [
    "list(output)"
   ]
  },
  {
   "cell_type": "code",
   "execution_count": 5,
   "id": "24f4beef",
   "metadata": {},
   "outputs": [
    {
     "data": {
      "text/plain": [
       "zip"
      ]
     },
     "execution_count": 5,
     "metadata": {},
     "output_type": "execute_result"
    }
   ],
   "source": [
    "type(output)"
   ]
  },
  {
   "cell_type": "code",
   "execution_count": 6,
   "id": "3c04a5bb",
   "metadata": {},
   "outputs": [
    {
     "data": {
      "text/plain": [
       "list"
      ]
     },
     "execution_count": 6,
     "metadata": {},
     "output_type": "execute_result"
    }
   ],
   "source": [
    "type(list(output))"
   ]
  },
  {
   "cell_type": "code",
   "execution_count": 18,
   "id": "e983db2b",
   "metadata": {},
   "outputs": [
    {
     "data": {
      "text/plain": [
       "('Megha', 'a')"
      ]
     },
     "execution_count": 18,
     "metadata": {},
     "output_type": "execute_result"
    }
   ],
   "source": [
    "next(output)"
   ]
  },
  {
   "cell_type": "code",
   "execution_count": 19,
   "id": "ca73be46",
   "metadata": {},
   "outputs": [
    {
     "data": {
      "text/plain": [
       "('Mayank', 'b')"
      ]
     },
     "execution_count": 19,
     "metadata": {},
     "output_type": "execute_result"
    }
   ],
   "source": [
    "next(output)"
   ]
  },
  {
   "cell_type": "code",
   "execution_count": 20,
   "id": "475900ee",
   "metadata": {},
   "outputs": [
    {
     "data": {
      "text/plain": [
       "('Neha', 'c')"
      ]
     },
     "execution_count": 20,
     "metadata": {},
     "output_type": "execute_result"
    }
   ],
   "source": [
    "next(output)"
   ]
  },
  {
   "cell_type": "code",
   "execution_count": 21,
   "id": "5e20871a",
   "metadata": {},
   "outputs": [
    {
     "name": "stdout",
     "output_type": "stream",
     "text": [
      "Megha a\n",
      "Mayank b\n",
      "Neha c\n"
     ]
    }
   ],
   "source": [
    "output=zip(lst1,lst2)\n",
    "for i,j in output:\n",
    "    print(i,j)"
   ]
  },
  {
   "cell_type": "code",
   "execution_count": 23,
   "id": "99fd27e8",
   "metadata": {},
   "outputs": [],
   "source": [
    "lst1=['Megha','Mayank', 'Neha']\n",
    "lst2=['a','b','c']\n",
    "lst3 =[1,2,3]"
   ]
  },
  {
   "cell_type": "code",
   "execution_count": 24,
   "id": "a8f5ee37",
   "metadata": {},
   "outputs": [
    {
     "name": "stdout",
     "output_type": "stream",
     "text": [
      "Megha a 1\n",
      "Mayank b 2\n",
      "Neha c 3\n"
     ]
    }
   ],
   "source": [
    "output=zip(lst1,lst2,lst3)\n",
    "for i,j,k in output:\n",
    "    print(i,j,k)"
   ]
  },
  {
   "cell_type": "code",
   "execution_count": 25,
   "id": "5b676ec9",
   "metadata": {},
   "outputs": [],
   "source": [
    "lst1=['Megha','Mayank', 'Neha', 'Ola']\n",
    "lst2=['a','b','c']\n",
    "lst3 =[1,2,3]"
   ]
  },
  {
   "cell_type": "code",
   "execution_count": 26,
   "id": "0d8acee2",
   "metadata": {},
   "outputs": [
    {
     "name": "stdout",
     "output_type": "stream",
     "text": [
      "Megha a 1\n",
      "Mayank b 2\n",
      "Neha c 3\n"
     ]
    }
   ],
   "source": [
    "output=zip(lst1,lst2,lst3)\n",
    "for i,j,k in output:\n",
    "    print(i,j,k)"
   ]
  },
  {
   "cell_type": "markdown",
   "id": "20d7a87a",
   "metadata": {},
   "source": [
    "We are able to do parallel  iteration as in one iteration we are able to get the results of three iterables."
   ]
  },
  {
   "cell_type": "markdown",
   "id": "50b9a725",
   "metadata": {},
   "source": [
    "Used in data preprocessing, feature engineering and writing efficient code."
   ]
  },
  {
   "cell_type": "code",
   "execution_count": 28,
   "id": "acb3c608",
   "metadata": {},
   "outputs": [
    {
     "data": {
      "text/plain": [
       "[]"
      ]
     },
     "execution_count": 28,
     "metadata": {},
     "output_type": "execute_result"
    }
   ],
   "source": [
    "list(zip())"
   ]
  },
  {
   "cell_type": "code",
   "execution_count": 29,
   "id": "32b6f14b",
   "metadata": {},
   "outputs": [
    {
     "data": {
      "text/plain": [
       "list"
      ]
     },
     "execution_count": 29,
     "metadata": {},
     "output_type": "execute_result"
    }
   ],
   "source": [
    "type(list(zip()))"
   ]
  },
  {
   "cell_type": "code",
   "execution_count": 30,
   "id": "fa8e24c9",
   "metadata": {},
   "outputs": [],
   "source": [
    "dict1={'name':\"Megha\", 'lname':\"Sharma\", 'age':\"24\"}\n",
    "dict2={'name':\"Mayank\", 'lname':\"Singla\", 'age':\"24\"}"
   ]
  },
  {
   "cell_type": "code",
   "execution_count": 31,
   "id": "b69814ab",
   "metadata": {},
   "outputs": [
    {
     "data": {
      "text/plain": [
       "<zip at 0x2f8b418a400>"
      ]
     },
     "execution_count": 31,
     "metadata": {},
     "output_type": "execute_result"
    }
   ],
   "source": [
    "zip(dict1,dict2)"
   ]
  },
  {
   "cell_type": "code",
   "execution_count": 46,
   "id": "0d899b0b",
   "metadata": {},
   "outputs": [],
   "source": [
    "dictionary=zip(dict1.items(),dict2.items())"
   ]
  },
  {
   "cell_type": "code",
   "execution_count": 37,
   "id": "6f70ad92",
   "metadata": {},
   "outputs": [
    {
     "data": {
      "text/plain": [
       "<zip at 0x2f8b2691e80>"
      ]
     },
     "execution_count": 37,
     "metadata": {},
     "output_type": "execute_result"
    }
   ],
   "source": [
    "dictionary"
   ]
  },
  {
   "cell_type": "code",
   "execution_count": 38,
   "id": "e7c40dcc",
   "metadata": {},
   "outputs": [
    {
     "name": "stdout",
     "output_type": "stream",
     "text": [
      "name Megha\n",
      "name Mayank\n",
      "lname Sharma\n",
      "lname Singla\n",
      "age 24\n",
      "age 24\n"
     ]
    }
   ],
   "source": [
    "for (i,j),(i2,j2) in dictionary:\n",
    "    print(i,j)\n",
    "    print(i2,j2)"
   ]
  },
  {
   "cell_type": "code",
   "execution_count": 47,
   "id": "36c52e74",
   "metadata": {},
   "outputs": [
    {
     "data": {
      "text/plain": [
       "[(('name', 'Megha'), ('name', 'Mayank')),\n",
       " (('lname', 'Sharma'), ('lname', 'Singla')),\n",
       " (('age', '24'), ('age', '24'))]"
      ]
     },
     "execution_count": 47,
     "metadata": {},
     "output_type": "execute_result"
    }
   ],
   "source": [
    "list(dictionary)"
   ]
  },
  {
   "cell_type": "code",
   "execution_count": 42,
   "id": "142f1ab1",
   "metadata": {},
   "outputs": [
    {
     "data": {
      "text/plain": [
       "(('name', 'Megha'), ('name', 'Mayank'))"
      ]
     },
     "execution_count": 42,
     "metadata": {},
     "output_type": "execute_result"
    }
   ],
   "source": [
    "next(dictionary)"
   ]
  },
  {
   "cell_type": "code",
   "execution_count": 43,
   "id": "bb0c9109",
   "metadata": {},
   "outputs": [
    {
     "data": {
      "text/plain": [
       "(('lname', 'Sharma'), ('lname', 'Singla'))"
      ]
     },
     "execution_count": 43,
     "metadata": {},
     "output_type": "execute_result"
    }
   ],
   "source": [
    "next(dictionary)"
   ]
  },
  {
   "cell_type": "code",
   "execution_count": 44,
   "id": "cad765e4",
   "metadata": {},
   "outputs": [
    {
     "data": {
      "text/plain": [
       "(('age', '24'), ('age', '24'))"
      ]
     },
     "execution_count": 44,
     "metadata": {},
     "output_type": "execute_result"
    }
   ],
   "source": [
    "next(dictionary)"
   ]
  },
  {
   "cell_type": "code",
   "execution_count": 45,
   "id": "d78e7212",
   "metadata": {},
   "outputs": [
    {
     "ename": "StopIteration",
     "evalue": "",
     "output_type": "error",
     "traceback": [
      "\u001b[1;31m---------------------------------------------------------------------------\u001b[0m",
      "\u001b[1;31mStopIteration\u001b[0m                             Traceback (most recent call last)",
      "Cell \u001b[1;32mIn[45], line 1\u001b[0m\n\u001b[1;32m----> 1\u001b[0m \u001b[38;5;28;43mnext\u001b[39;49m\u001b[43m(\u001b[49m\u001b[43mdictionary\u001b[49m\u001b[43m)\u001b[49m\n",
      "\u001b[1;31mStopIteration\u001b[0m: "
     ]
    }
   ],
   "source": [
    "next(dictionary)"
   ]
  },
  {
   "cell_type": "code",
   "execution_count": null,
   "id": "a1927272",
   "metadata": {},
   "outputs": [],
   "source": []
  }
 ],
 "metadata": {
  "kernelspec": {
   "display_name": "Python 3 (ipykernel)",
   "language": "python",
   "name": "python3"
  },
  "language_info": {
   "codemirror_mode": {
    "name": "ipython",
    "version": 3
   },
   "file_extension": ".py",
   "mimetype": "text/x-python",
   "name": "python",
   "nbconvert_exporter": "python",
   "pygments_lexer": "ipython3",
   "version": "3.10.9"
  }
 },
 "nbformat": 4,
 "nbformat_minor": 5
}
