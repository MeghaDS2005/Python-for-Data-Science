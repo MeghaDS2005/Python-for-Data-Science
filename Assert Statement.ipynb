{
 "cells": [
  {
   "cell_type": "markdown",
   "id": "f6926f65",
   "metadata": {},
   "source": [
    "# Assert Statement"
   ]
  },
  {
   "cell_type": "markdown",
   "id": "0ef94002",
   "metadata": {},
   "source": [
    "Python provides the assert statement to check whether the given logical statement is true or false. Program execution proceeds only if the the expression is true and raises AssertionError when it is false."
   ]
  },
  {
   "cell_type": "code",
   "execution_count": 1,
   "id": "1d5b234f",
   "metadata": {},
   "outputs": [],
   "source": [
    "num=10\n",
    "assert num>=10\n"
   ]
  },
  {
   "cell_type": "code",
   "execution_count": 2,
   "id": "71aeb1dc",
   "metadata": {},
   "outputs": [
    {
     "ename": "AssertionError",
     "evalue": "",
     "output_type": "error",
     "traceback": [
      "\u001b[1;31m---------------------------------------------------------------------------\u001b[0m",
      "\u001b[1;31mAssertionError\u001b[0m                            Traceback (most recent call last)",
      "Cell \u001b[1;32mIn[2], line 2\u001b[0m\n\u001b[0;32m      1\u001b[0m num\u001b[38;5;241m=\u001b[39m\u001b[38;5;241m7\u001b[39m\n\u001b[1;32m----> 2\u001b[0m \u001b[38;5;28;01massert\u001b[39;00m num\u001b[38;5;241m>\u001b[39m\u001b[38;5;241m=\u001b[39m\u001b[38;5;241m10\u001b[39m\n",
      "\u001b[1;31mAssertionError\u001b[0m: "
     ]
    }
   ],
   "source": [
    "num=7\n",
    "assert num>=10"
   ]
  },
  {
   "cell_type": "markdown",
   "id": "96c7b4b4",
   "metadata": {},
   "source": [
    "This assertion statement is a kind of a exception handling that we use in exception handling"
   ]
  },
  {
   "cell_type": "code",
   "execution_count": 3,
   "id": "28db5aa7",
   "metadata": {},
   "outputs": [
    {
     "name": "stdout",
     "output_type": "stream",
     "text": [
      "Please enter the number4\n",
      "The number is even\n"
     ]
    }
   ],
   "source": [
    "try:\n",
    "    num=int(input(\"Please enter the number\"))\n",
    "    assert num%2==0\n",
    "    print(\"The number is even\")\n",
    "except AssertionError:\n",
    "    print(\"Please enter a even number\")"
   ]
  },
  {
   "cell_type": "code",
   "execution_count": 5,
   "id": "2d0a6e26",
   "metadata": {},
   "outputs": [
    {
     "name": "stdout",
     "output_type": "stream",
     "text": [
      "Please enter the number5\n",
      "Please enter a even number\n"
     ]
    }
   ],
   "source": [
    "try:\n",
    "    num=int(input(\"Please enter the number\"))\n",
    "    assert num%2==0\n",
    "    print(\"The number is even\")\n",
    "except AssertionError:\n",
    "    print(\"Please enter a even number\")"
   ]
  },
  {
   "cell_type": "code",
   "execution_count": null,
   "id": "f2ac47ca",
   "metadata": {},
   "outputs": [],
   "source": []
  }
 ],
 "metadata": {
  "kernelspec": {
   "display_name": "Python 3 (ipykernel)",
   "language": "python",
   "name": "python3"
  },
  "language_info": {
   "codemirror_mode": {
    "name": "ipython",
    "version": 3
   },
   "file_extension": ".py",
   "mimetype": "text/x-python",
   "name": "python",
   "nbconvert_exporter": "python",
   "pygments_lexer": "ipython3",
   "version": "3.10.9"
  }
 },
 "nbformat": 4,
 "nbformat_minor": 5
}
