{
 "cells": [
  {
   "cell_type": "markdown",
   "id": "a0056dfa",
   "metadata": {},
   "source": [
    "# OOPS - Multiple Inheritance in Python"
   ]
  },
  {
   "cell_type": "code",
   "execution_count": 2,
   "id": "0c026858",
   "metadata": {},
   "outputs": [],
   "source": [
    "class A:\n",
    "    def method1(self):\n",
    "        print(\"A class method is called\")\n",
    "    "
   ]
  },
  {
   "cell_type": "code",
   "execution_count": 11,
   "id": "beddd587",
   "metadata": {},
   "outputs": [],
   "source": [
    "class B(A):\n",
    "    def method1(self):\n",
    "        print(\"B class method is called\")\n",
    "    def method2(self):\n",
    "        print(\"B class method 2 is called\")    \n",
    "    "
   ]
  },
  {
   "cell_type": "code",
   "execution_count": 12,
   "id": "0e290bd7",
   "metadata": {},
   "outputs": [],
   "source": [
    "class C(A):\n",
    "    def method1(self):\n",
    "        print(\"C class method is called\")"
   ]
  },
  {
   "cell_type": "code",
   "execution_count": 13,
   "id": "96144aef",
   "metadata": {},
   "outputs": [],
   "source": [
    "#multiple inheritance\n",
    "class D(B,C):\n",
    "    def method1(self):\n",
    "        print(\"D class method is called\")"
   ]
  },
  {
   "cell_type": "code",
   "execution_count": 14,
   "id": "54d3a277",
   "metadata": {},
   "outputs": [],
   "source": [
    "d=D()"
   ]
  },
  {
   "cell_type": "code",
   "execution_count": 15,
   "id": "05940e37",
   "metadata": {},
   "outputs": [
    {
     "name": "stdout",
     "output_type": "stream",
     "text": [
      "D class method is called\n"
     ]
    }
   ],
   "source": [
    "d.method1()"
   ]
  },
  {
   "cell_type": "code",
   "execution_count": 16,
   "id": "c9a8a0a2",
   "metadata": {},
   "outputs": [
    {
     "name": "stdout",
     "output_type": "stream",
     "text": [
      "B class method 2 is called\n"
     ]
    }
   ],
   "source": [
    "d.method2()"
   ]
  },
  {
   "cell_type": "markdown",
   "id": "06c36ecb",
   "metadata": {},
   "source": [
    "How do we call the parent method1 (class B) from class D's object?"
   ]
  },
  {
   "cell_type": "code",
   "execution_count": 18,
   "id": "dac5e590",
   "metadata": {},
   "outputs": [
    {
     "name": "stdout",
     "output_type": "stream",
     "text": [
      "B class method is called\n"
     ]
    }
   ],
   "source": [
    "B.method1(d)"
   ]
  },
  {
   "cell_type": "markdown",
   "id": "ca823a5f",
   "metadata": {},
   "source": [
    "How do we call the parent method1 (class A) from class D's object?"
   ]
  },
  {
   "cell_type": "code",
   "execution_count": 21,
   "id": "5a17225e",
   "metadata": {},
   "outputs": [
    {
     "name": "stdout",
     "output_type": "stream",
     "text": [
      "A class method is called\n"
     ]
    }
   ],
   "source": [
    "A.method1(d)"
   ]
  },
  {
   "cell_type": "markdown",
   "id": "f2a24f3a",
   "metadata": {},
   "source": [
    "How do we call the parent method1 (class C) from class D's object?"
   ]
  },
  {
   "cell_type": "code",
   "execution_count": 22,
   "id": "8e54ca82",
   "metadata": {},
   "outputs": [
    {
     "name": "stdout",
     "output_type": "stream",
     "text": [
      "C class method is called\n"
     ]
    }
   ],
   "source": [
    "C.method1(d)"
   ]
  },
  {
   "cell_type": "code",
   "execution_count": 24,
   "id": "c4e2403a",
   "metadata": {},
   "outputs": [],
   "source": [
    "class D(B,C):\n",
    "    def method1(self):\n",
    "        print(\"D class method is called\")\n",
    "        A.method1(self)\n",
    "        B.method1(self)\n",
    "        B.method2(self)    \n",
    "        C.method1(self)\n",
    "        "
   ]
  },
  {
   "cell_type": "code",
   "execution_count": 25,
   "id": "e983be20",
   "metadata": {},
   "outputs": [],
   "source": [
    "d1=D()"
   ]
  },
  {
   "cell_type": "code",
   "execution_count": 27,
   "id": "aec57244",
   "metadata": {},
   "outputs": [
    {
     "name": "stdout",
     "output_type": "stream",
     "text": [
      "D class method is called\n",
      "A class method is called\n",
      "B class method is called\n",
      "B class method 2 is called\n",
      "C class method is called\n"
     ]
    }
   ],
   "source": [
    "d1.method1()"
   ]
  },
  {
   "cell_type": "code",
   "execution_count": 32,
   "id": "08583965",
   "metadata": {},
   "outputs": [],
   "source": [
    "class A1:\n",
    "    def method1(self):\n",
    "        print(\"A class method is called\")\n",
    "    "
   ]
  },
  {
   "cell_type": "code",
   "execution_count": 33,
   "id": "7bd25dc8",
   "metadata": {},
   "outputs": [],
   "source": [
    "class B1(A1):\n",
    "    def method2(self):\n",
    "        print(\"B class method is called\")\n",
    "    def method3(self):\n",
    "        print(\"B class method 2 is called\")    \n",
    "    "
   ]
  },
  {
   "cell_type": "code",
   "execution_count": 34,
   "id": "d9aaf652",
   "metadata": {},
   "outputs": [],
   "source": [
    "class C1(A1):\n",
    "    def method4(self):\n",
    "        print(\"C  class method is called\")\n",
    "    "
   ]
  },
  {
   "cell_type": "code",
   "execution_count": 35,
   "id": "dfe16d7b",
   "metadata": {},
   "outputs": [],
   "source": [
    "class D1(B1,C1):\n",
    "    def method5(self):\n",
    "        print(\"D class method is called\")\n",
    "    "
   ]
  },
  {
   "cell_type": "code",
   "execution_count": 36,
   "id": "592ec2c0",
   "metadata": {},
   "outputs": [],
   "source": [
    "d2=D1()"
   ]
  },
  {
   "cell_type": "code",
   "execution_count": 37,
   "id": "0826c402",
   "metadata": {},
   "outputs": [
    {
     "name": "stdout",
     "output_type": "stream",
     "text": [
      "A class method is called\n"
     ]
    }
   ],
   "source": [
    "d2.method1()"
   ]
  },
  {
   "cell_type": "code",
   "execution_count": 38,
   "id": "7e906cdc",
   "metadata": {},
   "outputs": [
    {
     "name": "stdout",
     "output_type": "stream",
     "text": [
      "B class method is called\n"
     ]
    }
   ],
   "source": [
    "d2.method2()"
   ]
  },
  {
   "cell_type": "code",
   "execution_count": 39,
   "id": "ddcdaa33",
   "metadata": {},
   "outputs": [
    {
     "name": "stdout",
     "output_type": "stream",
     "text": [
      "B class method 2 is called\n"
     ]
    }
   ],
   "source": [
    "d2.method3()"
   ]
  },
  {
   "cell_type": "code",
   "execution_count": 40,
   "id": "53917d23",
   "metadata": {},
   "outputs": [
    {
     "name": "stdout",
     "output_type": "stream",
     "text": [
      "C  class method is called\n"
     ]
    }
   ],
   "source": [
    "d2.method4()"
   ]
  },
  {
   "cell_type": "code",
   "execution_count": 41,
   "id": "81057937",
   "metadata": {},
   "outputs": [
    {
     "name": "stdout",
     "output_type": "stream",
     "text": [
      "D class method is called\n"
     ]
    }
   ],
   "source": [
    "d2.method5()"
   ]
  },
  {
   "cell_type": "code",
   "execution_count": 42,
   "id": "e1698938",
   "metadata": {},
   "outputs": [
    {
     "name": "stdout",
     "output_type": "stream",
     "text": [
      "A class method is called\n"
     ]
    }
   ],
   "source": [
    "A1.method1(d2)"
   ]
  },
  {
   "cell_type": "code",
   "execution_count": 43,
   "id": "b28d7207",
   "metadata": {},
   "outputs": [
    {
     "name": "stdout",
     "output_type": "stream",
     "text": [
      "B class method is called\n"
     ]
    }
   ],
   "source": [
    "B1.method2(d2)"
   ]
  },
  {
   "cell_type": "code",
   "execution_count": 44,
   "id": "018ded3e",
   "metadata": {},
   "outputs": [
    {
     "name": "stdout",
     "output_type": "stream",
     "text": [
      "B class method 2 is called\n"
     ]
    }
   ],
   "source": [
    "B1.method3(d2)"
   ]
  },
  {
   "cell_type": "code",
   "execution_count": 45,
   "id": "5d50c356",
   "metadata": {},
   "outputs": [
    {
     "name": "stdout",
     "output_type": "stream",
     "text": [
      "C  class method is called\n"
     ]
    }
   ],
   "source": [
    "C1.method4(d2)"
   ]
  },
  {
   "cell_type": "code",
   "execution_count": 46,
   "id": "e3754fb3",
   "metadata": {},
   "outputs": [
    {
     "name": "stdout",
     "output_type": "stream",
     "text": [
      "D class method is called\n"
     ]
    }
   ],
   "source": [
    "D1.method5(d2)"
   ]
  },
  {
   "cell_type": "code",
   "execution_count": null,
   "id": "3c776e94",
   "metadata": {},
   "outputs": [],
   "source": []
  }
 ],
 "metadata": {
  "kernelspec": {
   "display_name": "Python 3 (ipykernel)",
   "language": "python",
   "name": "python3"
  },
  "language_info": {
   "codemirror_mode": {
    "name": "ipython",
    "version": 3
   },
   "file_extension": ".py",
   "mimetype": "text/x-python",
   "name": "python",
   "nbconvert_exporter": "python",
   "pygments_lexer": "ipython3",
   "version": "3.10.9"
  }
 },
 "nbformat": 4,
 "nbformat_minor": 5
}
