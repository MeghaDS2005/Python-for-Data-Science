{
 "cells": [
  {
   "cell_type": "markdown",
   "id": "b439e771",
   "metadata": {},
   "source": [
    "# Static Methods"
   ]
  },
  {
   "cell_type": "code",
   "execution_count": 1,
   "id": "9ad603a1",
   "metadata": {},
   "outputs": [],
   "source": [
    "import datetime\n",
    "now=datetime.datetime.now()"
   ]
  },
  {
   "cell_type": "code",
   "execution_count": 3,
   "id": "6c3d6f9b",
   "metadata": {},
   "outputs": [
    {
     "data": {
      "text/plain": [
       "2023"
      ]
     },
     "execution_count": 3,
     "metadata": {},
     "output_type": "execute_result"
    }
   ],
   "source": [
    "now.year"
   ]
  },
  {
   "cell_type": "code",
   "execution_count": 17,
   "id": "102b899f",
   "metadata": {},
   "outputs": [],
   "source": [
    "class cars:\n",
    "    base_price=1000 ##class variables\n",
    "    #initialization constructor\n",
    "    def __init__(self,windows,doors,engine_type,model):\n",
    "          self.windows=windows\n",
    "          self.doors=doors\n",
    "          self.engine_type=engine_type\n",
    "          self.model=model\n",
    "            \n",
    "    def what_isbaseprice(self):\n",
    "         print(\"The base price is\".format(self.base_price))\n",
    "            #adding inflation rate every year changing the base price\n",
    "    @classmethod     \n",
    "    def revise_base_price(cls, inflation):\n",
    "        cls.base_price=cls.base_price+cls.base_price*inflation\n",
    "#here we do not have to provide any instance parameter(self) or any class parameter(cls)        \n",
    "    @staticmethod\n",
    "    def check_year():\n",
    "        if now.year==2023:\n",
    "            return True\n",
    "        else:\n",
    "            return False\n",
    "        "
   ]
  },
  {
   "cell_type": "markdown",
   "id": "757e935f",
   "metadata": {},
   "source": [
    "A static method is bound to a class rather than the objects for that class. This means that a static method can be called without an object for that class.\n",
    "\n",
    "When do you use static methods?\n",
    "1. Grouping utility function to a class\n",
    "Static methods have a limited use case because, like class methods or any other methods within a class, they cannot access the properties of the class itself.\n",
    "However, when you need a utility function that doesn't access any properties of a class but makes sense that it belongs to the class, we use static functions.\n",
    "\n",
    "2. Having a single implementation\n",
    "Static methods are used when we don't want subclasses of a class change/override a specific implementation of a method.\n",
    "\n",
    "3. Static methods are faster"
   ]
  },
  {
   "cell_type": "markdown",
   "id": "4f16ea84",
   "metadata": {},
   "source": [
    "As soon as a class is loaded, the first thing which is initialized is static method even though we dont initialize an instance\n",
    "\n",
    "When the whole application is running, static methods are initialized only once.\n",
    "\n",
    "No multiple copies are made as in case of instance methods."
   ]
  },
  {
   "cell_type": "code",
   "execution_count": 19,
   "id": "ffa858b4",
   "metadata": {},
   "outputs": [
    {
     "data": {
      "text/plain": [
       "True"
      ]
     },
     "execution_count": 19,
     "metadata": {},
     "output_type": "execute_result"
    }
   ],
   "source": [
    "cars.check_year()"
   ]
  },
  {
   "cell_type": "code",
   "execution_count": 21,
   "id": "2c28ba4d",
   "metadata": {},
   "outputs": [],
   "source": [
    "car1=cars(5,4,\"Petrol\",\"Audi\")"
   ]
  },
  {
   "cell_type": "code",
   "execution_count": 22,
   "id": "13743888",
   "metadata": {},
   "outputs": [],
   "source": [
    "if(cars.check_year()):\n",
    "    pass\n",
    "else:\n",
    "    cars.revise_base_price()"
   ]
  },
  {
   "cell_type": "code",
   "execution_count": 24,
   "id": "7e1818e2",
   "metadata": {},
   "outputs": [
    {
     "data": {
      "text/plain": [
       "1000"
      ]
     },
     "execution_count": 24,
     "metadata": {},
     "output_type": "execute_result"
    }
   ],
   "source": [
    "car1.base_price"
   ]
  },
  {
   "cell_type": "code",
   "execution_count": null,
   "id": "2a9b1a23",
   "metadata": {},
   "outputs": [],
   "source": []
  }
 ],
 "metadata": {
  "kernelspec": {
   "display_name": "Python 3 (ipykernel)",
   "language": "python",
   "name": "python3"
  },
  "language_info": {
   "codemirror_mode": {
    "name": "ipython",
    "version": 3
   },
   "file_extension": ".py",
   "mimetype": "text/x-python",
   "name": "python",
   "nbconvert_exporter": "python",
   "pygments_lexer": "ipython3",
   "version": "3.10.9"
  }
 },
 "nbformat": 4,
 "nbformat_minor": 5
}
