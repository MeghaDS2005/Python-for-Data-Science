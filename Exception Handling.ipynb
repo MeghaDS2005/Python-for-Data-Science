{
 "cells": [
  {
   "cell_type": "markdown",
   "id": "6858a651",
   "metadata": {},
   "source": [
    "# Exception Handling in Python"
   ]
  },
  {
   "cell_type": "code",
   "execution_count": 1,
   "id": "524e3b1d",
   "metadata": {},
   "outputs": [
    {
     "ename": "NameError",
     "evalue": "name 'b' is not defined",
     "output_type": "error",
     "traceback": [
      "\u001b[1;31m---------------------------------------------------------------------------\u001b[0m",
      "\u001b[1;31mNameError\u001b[0m                                 Traceback (most recent call last)",
      "Cell \u001b[1;32mIn[1], line 1\u001b[0m\n\u001b[1;32m----> 1\u001b[0m a\u001b[38;5;241m=\u001b[39m\u001b[43mb\u001b[49m\n",
      "\u001b[1;31mNameError\u001b[0m: name 'b' is not defined"
     ]
    }
   ],
   "source": [
    "a=b"
   ]
  },
  {
   "cell_type": "code",
   "execution_count": 2,
   "id": "8b307245",
   "metadata": {},
   "outputs": [
    {
     "name": "stdout",
     "output_type": "stream",
     "text": [
      "name 'b' is not defined\n"
     ]
    }
   ],
   "source": [
    "try:\n",
    "    a=b\n",
    "except Exception as ex:\n",
    "         print(ex)"
   ]
  },
  {
   "cell_type": "code",
   "execution_count": 4,
   "id": "5e614f54",
   "metadata": {},
   "outputs": [
    {
     "name": "stdout",
     "output_type": "stream",
     "text": [
      "The user has not defined the variable\n"
     ]
    }
   ],
   "source": [
    "try:\n",
    "    a=b\n",
    "except NameError:\n",
    "         print(\"The user has not defined the variable\")\n",
    "\n",
    "except Exception as ex:\n",
    "         print(ex)"
   ]
  },
  {
   "cell_type": "code",
   "execution_count": 5,
   "id": "9d74d560",
   "metadata": {},
   "outputs": [
    {
     "ename": "TypeError",
     "evalue": "unsupported operand type(s) for +: 'int' and 'str'",
     "output_type": "error",
     "traceback": [
      "\u001b[1;31m---------------------------------------------------------------------------\u001b[0m",
      "\u001b[1;31mTypeError\u001b[0m                                 Traceback (most recent call last)",
      "Cell \u001b[1;32mIn[5], line 3\u001b[0m\n\u001b[0;32m      1\u001b[0m a\u001b[38;5;241m=\u001b[39m\u001b[38;5;241m1\u001b[39m\n\u001b[0;32m      2\u001b[0m b\u001b[38;5;241m=\u001b[39m\u001b[38;5;124m\"\u001b[39m\u001b[38;5;124mMegha\u001b[39m\u001b[38;5;124m\"\u001b[39m\n\u001b[1;32m----> 3\u001b[0m c\u001b[38;5;241m=\u001b[39m\u001b[43ma\u001b[49m\u001b[38;5;241;43m+\u001b[39;49m\u001b[43mb\u001b[49m\n",
      "\u001b[1;31mTypeError\u001b[0m: unsupported operand type(s) for +: 'int' and 'str'"
     ]
    }
   ],
   "source": [
    "a=1\n",
    "b=\"Megha\"\n",
    "c=a+b"
   ]
  },
  {
   "cell_type": "code",
   "execution_count": 6,
   "id": "3b1f515c",
   "metadata": {},
   "outputs": [
    {
     "name": "stdout",
     "output_type": "stream",
     "text": [
      "Try to make the data type similar\n"
     ]
    }
   ],
   "source": [
    "try:\n",
    "    a=1\n",
    "    b=\"Megha\"\n",
    "    c=a+b\n",
    "except NameError:\n",
    "         print(\"The user has not defined the variable\")\n",
    "except TypeError:\n",
    "         print(\"Try to make the data type similar\")\n",
    "\n",
    "except Exception as ex:\n",
    "         print(ex)"
   ]
  },
  {
   "cell_type": "code",
   "execution_count": 7,
   "id": "f962e878",
   "metadata": {},
   "outputs": [
    {
     "name": "stdout",
     "output_type": "stream",
     "text": [
      "Enter the first number23\n",
      "Enter the second number87\n",
      "110\n",
      "-64\n",
      "2001\n",
      "0.26436781609195403\n"
     ]
    }
   ],
   "source": [
    "try:\n",
    "    a=int(input(\"Enter the first number\"))\n",
    "    b=int(input(\"Enter the second number\"))\n",
    "    c=a+b\n",
    "    d=a-b\n",
    "    e=a*b\n",
    "    f=a/b\n",
    "    print(c)\n",
    "    print(d)\n",
    "    print(e)\n",
    "    print(f)\n",
    "except NameError:\n",
    "         print(\"The user has not defined the variable\")\n",
    "except TypeError:\n",
    "         print(\"Try to make the data type similar\")\n",
    "\n",
    "except Exception as ex:\n",
    "         print(ex)    "
   ]
  },
  {
   "cell_type": "code",
   "execution_count": 9,
   "id": "6787de9a",
   "metadata": {},
   "outputs": [
    {
     "name": "stdout",
     "output_type": "stream",
     "text": [
      "Enter the first number6\n",
      "Enter the second number0\n",
      "division by zero\n"
     ]
    }
   ],
   "source": [
    "try:\n",
    "    a=int(input(\"Enter the first number\"))\n",
    "    b=int(input(\"Enter the second number\"))\n",
    "    c=a+b\n",
    "    d=a-b\n",
    "    e=a*b\n",
    "    f=a/b\n",
    "    print(c)\n",
    "    print(d)\n",
    "    print(e)\n",
    "    print(f)\n",
    "except NameError:\n",
    "         print(\"The user has not defined the variable\")\n",
    "except TypeError:\n",
    "         print(\"Try to make the data type similar\")\n",
    "\n",
    "except Exception as ex:\n",
    "         print(ex)    "
   ]
  },
  {
   "cell_type": "code",
   "execution_count": 10,
   "id": "8d869287",
   "metadata": {},
   "outputs": [
    {
     "name": "stdout",
     "output_type": "stream",
     "text": [
      "Enter the first number4\n",
      "Enter the second number0\n",
      "Please provide number greater than zero\n"
     ]
    }
   ],
   "source": [
    "try:\n",
    "    a=int(input(\"Enter the first number\"))\n",
    "    b=int(input(\"Enter the second number\"))\n",
    "    c=a+b\n",
    "    d=a-b\n",
    "    e=a*b\n",
    "    f=a/b\n",
    "    print(c)\n",
    "    print(d)\n",
    "    print(e)\n",
    "    print(f)\n",
    "except NameError:\n",
    "         print(\"The user has not defined the variable\")\n",
    "except ZeroDivisionError:\n",
    "         print(\"Please provide number greater than zero\")\n",
    "except TypeError:\n",
    "         print(\"Try to make the data type similar\")\n",
    "\n",
    "except Exception as ex:\n",
    "         print(ex)  "
   ]
  },
  {
   "cell_type": "markdown",
   "id": "722359de",
   "metadata": {},
   "source": [
    "Exception is the generic class and NameError, ZeroDivisionError and TypeError are the child classes"
   ]
  },
  {
   "cell_type": "code",
   "execution_count": 12,
   "id": "4be752e0",
   "metadata": {},
   "outputs": [
    {
     "name": "stdout",
     "output_type": "stream",
     "text": [
      "Enter the first number7\n",
      "Enter the second number3\n",
      "10\n",
      "4\n",
      "21\n",
      "2.3333333333333335\n"
     ]
    }
   ],
   "source": [
    "#try else block\n",
    "try:\n",
    "    a=int(input(\"Enter the first number\"))\n",
    "    b=int(input(\"Enter the second number\"))\n",
    "    c=a+b\n",
    "    d=a-b\n",
    "    e=a*b\n",
    "    f=a/b\n",
    "    \n",
    "except NameError:\n",
    "         print(\"The user has not defined the variable\")\n",
    "except ZeroDivisionError:\n",
    "         print(\"Please provide number greater than zero\")\n",
    "except TypeError:\n",
    "         print(\"Try to make the data type similar\")\n",
    "\n",
    "except Exception as ex:\n",
    "         print(ex)  \n",
    "else:\n",
    "    print(c)\n",
    "    print(d)\n",
    "    print(e)\n",
    "    print(f)"
   ]
  },
  {
   "cell_type": "markdown",
   "id": "a95d7dae",
   "metadata": {},
   "source": [
    "When the exception is not getting triggred, and the program code is successful, else block will get executed. It exception occurs the else block will not get triggered."
   ]
  },
  {
   "cell_type": "code",
   "execution_count": 14,
   "id": "1a98dc0b",
   "metadata": {},
   "outputs": [
    {
     "name": "stdout",
     "output_type": "stream",
     "text": [
      "Enter the first number7\n",
      "Enter the second number8\n",
      "15\n",
      "-1\n",
      "56\n",
      "0.875\n",
      "The execution is completed\n"
     ]
    }
   ],
   "source": [
    "#try else finally block\n",
    "\n",
    "try:\n",
    "    a=int(input(\"Enter the first number\"))\n",
    "    b=int(input(\"Enter the second number\"))\n",
    "    c=a+b\n",
    "    d=a-b\n",
    "    e=a*b\n",
    "    f=a/b\n",
    "except NameError:\n",
    "         print(\"The user has not defined the variable\")\n",
    "except ZeroDivisionError:\n",
    "         print(\"Please provide number greater than zero\")\n",
    "except TypeError:\n",
    "         print(\"Try to make the data type similar\")\n",
    "\n",
    "except Exception as ex:\n",
    "         print(ex)  \n",
    "else:\n",
    "    print(c)\n",
    "    print(d)\n",
    "    print(e)\n",
    "    print(f)\n",
    "finally:\n",
    "    print(\"The execution is completed\")"
   ]
  },
  {
   "cell_type": "markdown",
   "id": "f0174d24",
   "metadata": {},
   "source": [
    "Both else and finally block got triggered when no exception is there."
   ]
  },
  {
   "cell_type": "code",
   "execution_count": 15,
   "id": "23dca801",
   "metadata": {},
   "outputs": [
    {
     "name": "stdout",
     "output_type": "stream",
     "text": [
      "Enter the first number8\n",
      "Enter the second number0\n",
      "Please provide number greater than zero\n",
      "The execution is completed\n"
     ]
    }
   ],
   "source": [
    "try:\n",
    "    a=int(input(\"Enter the first number\"))\n",
    "    b=int(input(\"Enter the second number\"))\n",
    "    c=a+b\n",
    "    d=a-b\n",
    "    e=a*b\n",
    "    f=a/b\n",
    "except NameError:\n",
    "         print(\"The user has not defined the variable\")\n",
    "except ZeroDivisionError:\n",
    "         print(\"Please provide number greater than zero\")\n",
    "except TypeError:\n",
    "         print(\"Try to make the data type similar\")\n",
    "\n",
    "except Exception as ex:\n",
    "         print(ex)  \n",
    "else:\n",
    "    print(c)\n",
    "    print(d)\n",
    "    print(e)\n",
    "    print(f)\n",
    "finally:\n",
    "    print(\"The execution is completed\")"
   ]
  },
  {
   "cell_type": "markdown",
   "id": "a20f096a",
   "metadata": {},
   "source": [
    "When the exception occurs, else block will not get triggered but finally block will always be executed no matter exception exists in the code or not."
   ]
  },
  {
   "cell_type": "markdown",
   "id": "3d346391",
   "metadata": {},
   "source": [
    "Example scenario for try else finally block\n",
    "\n",
    "If we have made a connection to a database and an exception occurs, then while showing the message of exception occured in the output we can also we can close the connection made to the database writing the code in finally block."
   ]
  },
  {
   "cell_type": "markdown",
   "id": "37829901",
   "metadata": {},
   "source": [
    "# Custom Exception"
   ]
  },
  {
   "cell_type": "code",
   "execution_count": 24,
   "id": "6f615ca5",
   "metadata": {},
   "outputs": [],
   "source": [
    "class Error(Exception):\n",
    "      pass\n",
    "    \n",
    "class dobException(Error):\n",
    "        pass"
   ]
  },
  {
   "cell_type": "code",
   "execution_count": 25,
   "id": "4b2d024d",
   "metadata": {},
   "outputs": [
    {
     "name": "stdout",
     "output_type": "stream",
     "text": [
      "Enter your birth year: 1987\n",
      "The age is not valid and you cannot apply for the exam\n"
     ]
    }
   ],
   "source": [
    "\n",
    "year = int(input(\"Enter your birth year: \"))\n",
    "age = 2021-year\n",
    "try:\n",
    "    if age<=30 & age>20:\n",
    "        print(\"The age is valid and you can apply for the exam\")\n",
    "    else:\n",
    "        raise dobException\n",
    "except dobException:\n",
    "        print(\"The age is not valid and you cannot apply for the exam\")\n",
    "        \n",
    "    "
   ]
  },
  {
   "cell_type": "code",
   "execution_count": null,
   "id": "1583b190",
   "metadata": {},
   "outputs": [],
   "source": []
  },
  {
   "cell_type": "code",
   "execution_count": null,
   "id": "273382a4",
   "metadata": {},
   "outputs": [],
   "source": []
  }
 ],
 "metadata": {
  "kernelspec": {
   "display_name": "Python 3 (ipykernel)",
   "language": "python",
   "name": "python3"
  },
  "language_info": {
   "codemirror_mode": {
    "name": "ipython",
    "version": 3
   },
   "file_extension": ".py",
   "mimetype": "text/x-python",
   "name": "python",
   "nbconvert_exporter": "python",
   "pygments_lexer": "ipython3",
   "version": "3.10.9"
  }
 },
 "nbformat": 4,
 "nbformat_minor": 5
}
