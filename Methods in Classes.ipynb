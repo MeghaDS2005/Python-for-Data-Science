{
 "cells": [
  {
   "cell_type": "code",
   "execution_count": 1,
   "id": "a182eda6",
   "metadata": {},
   "outputs": [],
   "source": [
    "class cars:\n",
    "    #initialization constructor\n",
    "    def __init__(self,windows,doors,engine_type,model):\n",
    "          self.windows=windows\n",
    "          self.doors=doors\n",
    "          self.engine_type=engine_type\n",
    "          self.model=model\n",
    "            \n",
    "    def drive(self):\n",
    "         print(\"The person drives the car\")"
   ]
  },
  {
   "cell_type": "code",
   "execution_count": 2,
   "id": "bf3aaa8e",
   "metadata": {},
   "outputs": [],
   "source": [
    "c=cars(4,5,\"Diesel\",\"Audi\")"
   ]
  },
  {
   "cell_type": "code",
   "execution_count": 3,
   "id": "50ab5f46",
   "metadata": {},
   "outputs": [
    {
     "data": {
      "text/plain": [
       "<__main__.cars at 0x226ed08a080>"
      ]
     },
     "execution_count": 3,
     "metadata": {},
     "output_type": "execute_result"
    }
   ],
   "source": [
    "c"
   ]
  },
  {
   "cell_type": "code",
   "execution_count": 4,
   "id": "a6ced2b3",
   "metadata": {},
   "outputs": [
    {
     "data": {
      "text/plain": [
       "['__class__',\n",
       " '__delattr__',\n",
       " '__dict__',\n",
       " '__dir__',\n",
       " '__doc__',\n",
       " '__eq__',\n",
       " '__format__',\n",
       " '__ge__',\n",
       " '__getattribute__',\n",
       " '__gt__',\n",
       " '__hash__',\n",
       " '__init__',\n",
       " '__init_subclass__',\n",
       " '__le__',\n",
       " '__lt__',\n",
       " '__module__',\n",
       " '__ne__',\n",
       " '__new__',\n",
       " '__reduce__',\n",
       " '__reduce_ex__',\n",
       " '__repr__',\n",
       " '__setattr__',\n",
       " '__sizeof__',\n",
       " '__str__',\n",
       " '__subclasshook__',\n",
       " '__weakref__',\n",
       " 'doors',\n",
       " 'drive',\n",
       " 'engine_type',\n",
       " 'model',\n",
       " 'windows']"
      ]
     },
     "execution_count": 4,
     "metadata": {},
     "output_type": "execute_result"
    }
   ],
   "source": [
    "dir(c)"
   ]
  },
  {
   "cell_type": "code",
   "execution_count": 5,
   "id": "731fbea4",
   "metadata": {},
   "outputs": [
    {
     "name": "stdout",
     "output_type": "stream",
     "text": [
      "<__main__.cars object at 0x00000226ED08A080>\n"
     ]
    }
   ],
   "source": [
    "print(c)"
   ]
  },
  {
   "cell_type": "markdown",
   "id": "c0a42c5f",
   "metadata": {},
   "source": [
    "Here, __str__ method is called and that's what giving the output."
   ]
  },
  {
   "cell_type": "code",
   "execution_count": 19,
   "id": "9b6041db",
   "metadata": {},
   "outputs": [],
   "source": [
    "#overriding __str__\n",
    "class cars:\n",
    "    #initialization constructor\n",
    "    def __new__(self,windows,doors,engine_type,model):\n",
    "        return (\"The object has started getting initialized\")\n",
    "    def __init__(self,windows,doors,engine_type,model):\n",
    "          self.windows=windows\n",
    "          self.doors=doors\n",
    "          self.engine_type=engine_type\n",
    "          self.model=model\n",
    "    def __str__(self):\n",
    "        return (\"The object is initialized\")\n",
    "    def __sizeof__(self):\n",
    "        return (\"The overall size is {}\")\n",
    "    def drive(self):\n",
    "         print(\"The person drives the car\")"
   ]
  },
  {
   "cell_type": "code",
   "execution_count": 20,
   "id": "40313cb4",
   "metadata": {},
   "outputs": [],
   "source": [
    "c=cars(4,5,\"Diesel\",\"Audi\")"
   ]
  },
  {
   "cell_type": "code",
   "execution_count": 21,
   "id": "77713bd7",
   "metadata": {},
   "outputs": [
    {
     "name": "stdout",
     "output_type": "stream",
     "text": [
      "The object has started getting initialized\n"
     ]
    }
   ],
   "source": [
    "print(c)"
   ]
  },
  {
   "cell_type": "code",
   "execution_count": 16,
   "id": "5f4949d2",
   "metadata": {},
   "outputs": [
    {
     "data": {
      "text/plain": [
       "'The overall size is {}'"
      ]
     },
     "execution_count": 16,
     "metadata": {},
     "output_type": "execute_result"
    }
   ],
   "source": [
    "#overriding __sizeof__\n",
    "c.__sizeof__()"
   ]
  },
  {
   "cell_type": "code",
   "execution_count": null,
   "id": "79ec3ffa",
   "metadata": {},
   "outputs": [],
   "source": []
  }
 ],
 "metadata": {
  "kernelspec": {
   "display_name": "Python 3 (ipykernel)",
   "language": "python",
   "name": "python3"
  },
  "language_info": {
   "codemirror_mode": {
    "name": "ipython",
    "version": 3
   },
   "file_extension": ".py",
   "mimetype": "text/x-python",
   "name": "python",
   "nbconvert_exporter": "python",
   "pygments_lexer": "ipython3",
   "version": "3.10.9"
  }
 },
 "nbformat": 4,
 "nbformat_minor": 5
}
