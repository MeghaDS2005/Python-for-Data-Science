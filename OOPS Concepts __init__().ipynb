{
 "cells": [
  {
   "cell_type": "markdown",
   "id": "65714fbf",
   "metadata": {},
   "source": [
    "# OOPS  in Python"
   ]
  },
  {
   "cell_type": "code",
   "execution_count": 4,
   "id": "bacc70d6",
   "metadata": {},
   "outputs": [],
   "source": [
    "class car:\n",
    "     pass"
   ]
  },
  {
   "cell_type": "markdown",
   "id": "0d10138d",
   "metadata": {},
   "source": [
    "The pass statement is used as a placeholder for future code. When the pass statement is executed, nothing happens, but you avoid getting an error when empty code is not allowed. Empty code is not allowed in loops, function definitions, class definitions, or in if statements."
   ]
  },
  {
   "cell_type": "code",
   "execution_count": 5,
   "id": "daf4f517",
   "metadata": {},
   "outputs": [],
   "source": [
    "car1=car()"
   ]
  },
  {
   "cell_type": "code",
   "execution_count": 6,
   "id": "9235579e",
   "metadata": {},
   "outputs": [],
   "source": [
    "car1.windows=5\n",
    "car1.doors=4"
   ]
  },
  {
   "cell_type": "code",
   "execution_count": 7,
   "id": "e5fd3b54",
   "metadata": {},
   "outputs": [
    {
     "name": "stdout",
     "output_type": "stream",
     "text": [
      "5\n"
     ]
    }
   ],
   "source": [
    "print(car1.windows)"
   ]
  },
  {
   "cell_type": "code",
   "execution_count": 8,
   "id": "3df42e06",
   "metadata": {},
   "outputs": [
    {
     "name": "stdout",
     "output_type": "stream",
     "text": [
      "4\n"
     ]
    }
   ],
   "source": [
    "print(car1.doors)"
   ]
  },
  {
   "cell_type": "code",
   "execution_count": 9,
   "id": "7aaac7a2",
   "metadata": {},
   "outputs": [],
   "source": [
    "car2=car()"
   ]
  },
  {
   "cell_type": "code",
   "execution_count": 11,
   "id": "9a846673",
   "metadata": {},
   "outputs": [],
   "source": [
    "car2.model=\"BMW\"\n",
    "car2.engine=\"Petrol\""
   ]
  },
  {
   "cell_type": "code",
   "execution_count": 12,
   "id": "36e018fd",
   "metadata": {},
   "outputs": [
    {
     "name": "stdout",
     "output_type": "stream",
     "text": [
      "BMW\n",
      "Petrol\n"
     ]
    }
   ],
   "source": [
    "print(car2.model)\n",
    "print(car2.engine)"
   ]
  },
  {
   "cell_type": "markdown",
   "id": "8b7a6fee",
   "metadata": {},
   "source": [
    "N number of developers can create n number of objects and associate n number of function with them. This is not a good practice."
   ]
  },
  {
   "cell_type": "code",
   "execution_count": 17,
   "id": "be389381",
   "metadata": {},
   "outputs": [],
   "source": [
    "class cars:\n",
    "     def __init__(self,windows,doors,engine_type,model):\n",
    "          self.windows=windows\n",
    "          self.doors=doors\n",
    "          self.engine_type=engine_type\n",
    "          self.model=model\n",
    "          \n",
    "        "
   ]
  },
  {
   "cell_type": "code",
   "execution_count": 18,
   "id": "0de3a0ec",
   "metadata": {},
   "outputs": [],
   "source": [
    "car1=cars(5,4,\"Petrol\",\"Audi\")"
   ]
  },
  {
   "cell_type": "code",
   "execution_count": 19,
   "id": "dccd946a",
   "metadata": {},
   "outputs": [],
   "source": [
    "car2=cars(7,8,\"Diesel\",\"Tesla\")"
   ]
  },
  {
   "cell_type": "code",
   "execution_count": 20,
   "id": "2ba9fa39",
   "metadata": {},
   "outputs": [
    {
     "name": "stdout",
     "output_type": "stream",
     "text": [
      "Petrol\n",
      "Tesla\n"
     ]
    }
   ],
   "source": [
    "print(car1.engine_type)\n",
    "print(car2.model)"
   ]
  },
  {
   "cell_type": "markdown",
   "id": "c018f112",
   "metadata": {},
   "source": [
    "The __init__ method is roughly what represents a constructor in Python. Constructors are used to initializing the object’s state. The task of constructors is to initialize(assign values) to the data members of the class when an object of the class is created. Like methods, a constructor also contains a collection of statements(i.e. instructions) that are executed at the time of Object creation. It is run as soon as an object of a class is instantiated. The method is useful to do any initialization you want to do with your object."
   ]
  },
  {
   "cell_type": "markdown",
   "id": "ab3a68ba",
   "metadata": {},
   "source": [
    "self is a reference to the object created(car1/car2). self variable represents the instance of the object itself"
   ]
  },
  {
   "cell_type": "code",
   "execution_count": 21,
   "id": "f84b60b2",
   "metadata": {},
   "outputs": [
    {
     "name": "stdout",
     "output_type": "stream",
     "text": [
      "345\n",
      "123\n"
     ]
    }
   ],
   "source": [
    "# the difference between a variable declared inside a class, and a variable declared inside an __init__ function\n",
    "class MyClass(object):\n",
    "    i = 123\n",
    "    def __init__(self):\n",
    "        self.i = 345\n",
    "     \n",
    "a = MyClass()\n",
    "print(a.i)\n",
    "print(MyClass.i)"
   ]
  },
  {
   "cell_type": "markdown",
   "id": "197145cf",
   "metadata": {},
   "source": [
    "the variable set by __init__ is what gets passed to instances of the class, not the 'static' variable of the class itself that has the same name."
   ]
  },
  {
   "cell_type": "code",
   "execution_count": 28,
   "id": "d63cfa57",
   "metadata": {},
   "outputs": [],
   "source": [
    "class Bill():\n",
    "    def __init__(self,apples,figs,dates):\n",
    "        self.apples = apples\n",
    "        self.figs = figs\n",
    "        self.dates = dates\n",
    "        self.bill = apples + figs + dates\n",
    "        print (\"Buy\",self.apples,\"apples\", self.figs,\"figs and\",self.dates,\"dates. Total fruitty bill is\",self.bill,\" pieces of fruit :)\")"
   ]
  },
  {
   "cell_type": "code",
   "execution_count": 29,
   "id": "eccd5a99",
   "metadata": {},
   "outputs": [
    {
     "name": "stdout",
     "output_type": "stream",
     "text": [
      "Buy 5 apples 6 figs and 7 dates. Total fruitty bill is 18  pieces of fruit :)\n"
     ]
    }
   ],
   "source": [
    "purchase = Bill(5,6,7)"
   ]
  },
  {
   "cell_type": "markdown",
   "id": "9efb17aa",
   "metadata": {},
   "source": [
    "__init__ does act like a constructor. You'll need to pass \"self\" to any class functions as the first argument if you want them to behave as non-static methods. \"self\" are instance variables for your class."
   ]
  },
  {
   "cell_type": "code",
   "execution_count": 43,
   "id": "d83a0fb0",
   "metadata": {},
   "outputs": [],
   "source": [
    "class Cars:\n",
    "     def __init__(self,windows,doors,engine_type,model):\n",
    "          self.windows=windows\n",
    "          self.doors=doors\n",
    "          self.engine_type=engine_type\n",
    "          self.model=model\n",
    "     def self_drivingcars(self):\n",
    "        return \"This is a {} car\".format(self.engine_type)\n",
    "          "
   ]
  },
  {
   "cell_type": "markdown",
   "id": "47b3b27f",
   "metadata": {},
   "source": [
    "self was taken inside the method self_drivingcars so that others methods associated with the object reference can be called."
   ]
  },
  {
   "cell_type": "code",
   "execution_count": 44,
   "id": "2e06038c",
   "metadata": {},
   "outputs": [],
   "source": [
    "cars1=Cars(5,4,\"Petrol\",\"Audi\")"
   ]
  },
  {
   "cell_type": "code",
   "execution_count": 45,
   "id": "e81cd359",
   "metadata": {},
   "outputs": [
    {
     "data": {
      "text/plain": [
       "'This is a Petrol car'"
      ]
     },
     "execution_count": 45,
     "metadata": {},
     "output_type": "execute_result"
    }
   ],
   "source": [
    "cars1.self_drivingcars()"
   ]
  },
  {
   "cell_type": "code",
   "execution_count": null,
   "id": "f95e397a",
   "metadata": {},
   "outputs": [],
   "source": []
  }
 ],
 "metadata": {
  "kernelspec": {
   "display_name": "Python 3 (ipykernel)",
   "language": "python",
   "name": "python3"
  },
  "language_info": {
   "codemirror_mode": {
    "name": "ipython",
    "version": 3
   },
   "file_extension": ".py",
   "mimetype": "text/x-python",
   "name": "python",
   "nbconvert_exporter": "python",
   "pygments_lexer": "ipython3",
   "version": "3.10.9"
  }
 },
 "nbformat": 4,
 "nbformat_minor": 5
}
