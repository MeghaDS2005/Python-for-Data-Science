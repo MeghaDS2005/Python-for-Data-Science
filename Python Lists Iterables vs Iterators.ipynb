{
 "cells": [
  {
   "cell_type": "markdown",
   "id": "0a8d53c3",
   "metadata": {},
   "source": [
    "# Lists Iterables vs Iterators\n"
   ]
  },
  {
   "cell_type": "code",
   "execution_count": 2,
   "id": "e2e56bdf",
   "metadata": {},
   "outputs": [
    {
     "name": "stdout",
     "output_type": "stream",
     "text": [
      "1\n",
      "23\n",
      "4\n",
      "4\n",
      "5\n",
      "7\n"
     ]
    }
   ],
   "source": [
    "# List is iterable\n",
    "lst=[1,23,4,4,5,7]\n",
    "for i in lst:\n",
    "    print(i)"
   ]
  },
  {
   "cell_type": "markdown",
   "id": "9b1b4509",
   "metadata": {},
   "source": [
    "A list is an iterable but if we want to convert it into a iterator, then we need to use the iter() function."
   ]
  },
  {
   "cell_type": "code",
   "execution_count": 5,
   "id": "23778425",
   "metadata": {},
   "outputs": [
    {
     "data": {
      "text/plain": [
       "<list_iterator at 0x259dd77d990>"
      ]
     },
     "execution_count": 5,
     "metadata": {},
     "output_type": "execute_result"
    }
   ],
   "source": [
    "iter(lst)"
   ]
  },
  {
   "cell_type": "markdown",
   "id": "5c954d76",
   "metadata": {},
   "source": [
    "In the first case all the elements are initialised in the memory. But in case of iterators, the memory is not allocated until an inbuilt function next() is called."
   ]
  },
  {
   "cell_type": "code",
   "execution_count": 6,
   "id": "83e7a636",
   "metadata": {},
   "outputs": [],
   "source": [
    "lst1=iter(lst)"
   ]
  },
  {
   "cell_type": "code",
   "execution_count": 7,
   "id": "236a46f4",
   "metadata": {},
   "outputs": [
    {
     "data": {
      "text/plain": [
       "<list_iterator at 0x259dd77e2c0>"
      ]
     },
     "execution_count": 7,
     "metadata": {},
     "output_type": "execute_result"
    }
   ],
   "source": [
    "lst1\n"
   ]
  },
  {
   "cell_type": "code",
   "execution_count": 8,
   "id": "6e720c9f",
   "metadata": {},
   "outputs": [
    {
     "data": {
      "text/plain": [
       "1"
      ]
     },
     "execution_count": 8,
     "metadata": {},
     "output_type": "execute_result"
    }
   ],
   "source": [
    "next(lst1)"
   ]
  },
  {
   "cell_type": "code",
   "execution_count": 9,
   "id": "9c2eb951",
   "metadata": {},
   "outputs": [
    {
     "data": {
      "text/plain": [
       "23"
      ]
     },
     "execution_count": 9,
     "metadata": {},
     "output_type": "execute_result"
    }
   ],
   "source": [
    "next(lst1)"
   ]
  },
  {
   "cell_type": "markdown",
   "id": "695474da",
   "metadata": {},
   "source": [
    "This is how a element is initialized in the memory one at a time only when called using next()."
   ]
  },
  {
   "cell_type": "code",
   "execution_count": 10,
   "id": "6ebba8e6",
   "metadata": {},
   "outputs": [
    {
     "data": {
      "text/plain": [
       "4"
      ]
     },
     "execution_count": 10,
     "metadata": {},
     "output_type": "execute_result"
    }
   ],
   "source": [
    "next(lst1)"
   ]
  },
  {
   "cell_type": "code",
   "execution_count": 11,
   "id": "577392f6",
   "metadata": {},
   "outputs": [
    {
     "data": {
      "text/plain": [
       "4"
      ]
     },
     "execution_count": 11,
     "metadata": {},
     "output_type": "execute_result"
    }
   ],
   "source": [
    "next(lst1)"
   ]
  },
  {
   "cell_type": "code",
   "execution_count": 12,
   "id": "7ac012e1",
   "metadata": {},
   "outputs": [
    {
     "data": {
      "text/plain": [
       "5"
      ]
     },
     "execution_count": 12,
     "metadata": {},
     "output_type": "execute_result"
    }
   ],
   "source": [
    "next(lst1)"
   ]
  },
  {
   "cell_type": "code",
   "execution_count": 13,
   "id": "1338aef5",
   "metadata": {},
   "outputs": [
    {
     "data": {
      "text/plain": [
       "7"
      ]
     },
     "execution_count": 13,
     "metadata": {},
     "output_type": "execute_result"
    }
   ],
   "source": [
    "next(lst1)"
   ]
  },
  {
   "cell_type": "code",
   "execution_count": 14,
   "id": "1791e325",
   "metadata": {},
   "outputs": [
    {
     "ename": "StopIteration",
     "evalue": "",
     "output_type": "error",
     "traceback": [
      "\u001b[1;31m---------------------------------------------------------------------------\u001b[0m",
      "\u001b[1;31mStopIteration\u001b[0m                             Traceback (most recent call last)",
      "Cell \u001b[1;32mIn[14], line 1\u001b[0m\n\u001b[1;32m----> 1\u001b[0m \u001b[38;5;28;43mnext\u001b[39;49m\u001b[43m(\u001b[49m\u001b[43mlst1\u001b[49m\u001b[43m)\u001b[49m\n",
      "\u001b[1;31mStopIteration\u001b[0m: "
     ]
    }
   ],
   "source": [
    "next(lst1)"
   ]
  },
  {
   "cell_type": "markdown",
   "id": "f249aca1",
   "metadata": {},
   "source": [
    "After the last element, we are getting an error because no elemnt is left in the list"
   ]
  },
  {
   "cell_type": "markdown",
   "id": "26242143",
   "metadata": {},
   "source": [
    "To start the list again, rerun the ietrator "
   ]
  },
  {
   "cell_type": "markdown",
   "id": "d7628d5a",
   "metadata": {},
   "source": [
    "Here, the StopIteration is not handled."
   ]
  },
  {
   "cell_type": "code",
   "execution_count": 15,
   "id": "3ce7c07d",
   "metadata": {},
   "outputs": [],
   "source": [
    "lst1=iter(lst)"
   ]
  },
  {
   "cell_type": "code",
   "execution_count": 16,
   "id": "038e5ce4",
   "metadata": {},
   "outputs": [
    {
     "data": {
      "text/plain": [
       "1"
      ]
     },
     "execution_count": 16,
     "metadata": {},
     "output_type": "execute_result"
    }
   ],
   "source": [
    "next(lst1)"
   ]
  },
  {
   "cell_type": "markdown",
   "id": "a68d712e",
   "metadata": {},
   "source": [
    "for loop can be used for both iterables and ietrators"
   ]
  },
  {
   "cell_type": "code",
   "execution_count": 18,
   "id": "ba0d4840",
   "metadata": {},
   "outputs": [
    {
     "name": "stdout",
     "output_type": "stream",
     "text": [
      "23\n",
      "4\n",
      "4\n",
      "5\n",
      "7\n"
     ]
    }
   ],
   "source": [
    "for i in lst1:\n",
    "    print(i)"
   ]
  },
  {
   "cell_type": "markdown",
   "id": "b023060f",
   "metadata": {},
   "source": [
    "Started from 23 because 1 was already alocated"
   ]
  },
  {
   "cell_type": "markdown",
   "id": "0d67039c",
   "metadata": {},
   "source": [
    "If we want to start the for loop from 1st elemnt just rerun the itertor"
   ]
  },
  {
   "cell_type": "code",
   "execution_count": 19,
   "id": "aac25d93",
   "metadata": {},
   "outputs": [],
   "source": [
    "lst1=iter(lst)"
   ]
  },
  {
   "cell_type": "code",
   "execution_count": 20,
   "id": "dc1128fe",
   "metadata": {},
   "outputs": [
    {
     "name": "stdout",
     "output_type": "stream",
     "text": [
      "1\n",
      "23\n",
      "4\n",
      "4\n",
      "5\n",
      "7\n"
     ]
    }
   ],
   "source": [
    "for i in lst1:\n",
    "    print(i)"
   ]
  },
  {
   "cell_type": "markdown",
   "id": "7a3e8f5c",
   "metadata": {},
   "source": [
    "In for loop the stopIteration exception is already handled."
   ]
  },
  {
   "cell_type": "code",
   "execution_count": null,
   "id": "279a02fe",
   "metadata": {},
   "outputs": [],
   "source": []
  }
 ],
 "metadata": {
  "kernelspec": {
   "display_name": "Python 3 (ipykernel)",
   "language": "python",
   "name": "python3"
  },
  "language_info": {
   "codemirror_mode": {
    "name": "ipython",
    "version": 3
   },
   "file_extension": ".py",
   "mimetype": "text/x-python",
   "name": "python",
   "nbconvert_exporter": "python",
   "pygments_lexer": "ipython3",
   "version": "3.10.9"
  }
 },
 "nbformat": 4,
 "nbformat_minor": 5
}
