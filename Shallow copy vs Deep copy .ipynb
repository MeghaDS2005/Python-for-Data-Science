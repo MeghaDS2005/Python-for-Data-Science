{
 "cells": [
  {
   "cell_type": "markdown",
   "id": "b6d46493",
   "metadata": {},
   "source": [
    "# Shallow copy vs Deep copy in Python"
   ]
  },
  {
   "cell_type": "markdown",
   "id": "a273006e",
   "metadata": {},
   "source": [
    "Always remember, while using shalow copy and deep copy, the data or variables we want to initialize should be collection because collections are mutable."
   ]
  },
  {
   "cell_type": "code",
   "execution_count": 2,
   "id": "c42a08ac",
   "metadata": {},
   "outputs": [
    {
     "data": {
      "text/plain": [
       "(['Megha', 'Mayank', 'Neha'], ['Megha', 'Mayank', 'Neha'])"
      ]
     },
     "execution_count": 2,
     "metadata": {},
     "output_type": "execute_result"
    }
   ],
   "source": [
    "# = operator\n",
    "lst1=[\"Megha\", \"Mayank\", \"Neha\"]\n",
    "lst2=lst1\n",
    "lst1,lst2"
   ]
  },
  {
   "cell_type": "code",
   "execution_count": 5,
   "id": "52fbc877",
   "metadata": {},
   "outputs": [
    {
     "data": {
      "text/plain": [
       "['Megha', 'Mayank', 'Gunjan']"
      ]
     },
     "execution_count": 5,
     "metadata": {},
     "output_type": "execute_result"
    }
   ],
   "source": [
    "lst2[2]=\"Gunjan\"\n",
    "lst2"
   ]
  },
  {
   "cell_type": "code",
   "execution_count": 6,
   "id": "e102f9e1",
   "metadata": {},
   "outputs": [
    {
     "data": {
      "text/plain": [
       "['Megha', 'Mayank', 'Gunjan']"
      ]
     },
     "execution_count": 6,
     "metadata": {},
     "output_type": "execute_result"
    }
   ],
   "source": [
    "lst1"
   ]
  },
  {
   "cell_type": "markdown",
   "id": "5640a447",
   "metadata": {},
   "source": [
    "Both the lists lst1 and lst2 are referring to the same memory location and hence any changes in any of the 2 lists, will reflect in the output of the other list"
   ]
  },
  {
   "cell_type": "markdown",
   "id": "24181b8a",
   "metadata": {},
   "source": [
    "A shallow copy constructs a new compound object and then (to the extent possible) inserts references into it to the objects found in the original."
   ]
  },
  {
   "cell_type": "code",
   "execution_count": 7,
   "id": "7ee4095e",
   "metadata": {},
   "outputs": [
    {
     "data": {
      "text/plain": [
       "([1, 2, 3, 4, 5, 6], [1, 2, 0, 4, 5, 6])"
      ]
     },
     "execution_count": 7,
     "metadata": {},
     "output_type": "execute_result"
    }
   ],
   "source": [
    "# shallow copy using single dimensional list\n",
    "lst1=[1,2,3,4,5,6]\n",
    "lst2=lst1.copy()\n",
    "\n",
    "lst2[2]=0\n",
    "lst1,lst2"
   ]
  },
  {
   "cell_type": "markdown",
   "id": "334b07d1",
   "metadata": {},
   "source": [
    "Using shallow copy Now both the lists are referring to 2 different memory locations and hence changes done to one will reflect in other's output."
   ]
  },
  {
   "cell_type": "code",
   "execution_count": 31,
   "id": "fb0b437f",
   "metadata": {},
   "outputs": [
    {
     "data": {
      "text/plain": [
       "([[1, 2, 3, 4, 5], [6, 7, 8, 9, 0]], [[1, 2, 3, 4, 5], [6, 7, 8, 9, 0]])"
      ]
     },
     "execution_count": 31,
     "metadata": {},
     "output_type": "execute_result"
    }
   ],
   "source": [
    "## shalow copy using nested list\n",
    "lst1=[[1,2,3,4,5],[6,7,8,9,0]]\n",
    "lst2=lst1.copy()\n",
    "lst1,lst2"
   ]
  },
  {
   "cell_type": "code",
   "execution_count": 32,
   "id": "0d086c02",
   "metadata": {},
   "outputs": [
    {
     "data": {
      "text/plain": [
       "[[1, 2, 3, 4, 5], [6, 7, 8, 9, 0]]"
      ]
     },
     "execution_count": 32,
     "metadata": {},
     "output_type": "execute_result"
    }
   ],
   "source": [
    "lst1"
   ]
  },
  {
   "cell_type": "code",
   "execution_count": 33,
   "id": "af85098e",
   "metadata": {},
   "outputs": [
    {
     "data": {
      "text/plain": [
       "[[1, 2, 3, 4, 5], [6, 7, 8, 9, 0]]"
      ]
     },
     "execution_count": 33,
     "metadata": {},
     "output_type": "execute_result"
    }
   ],
   "source": [
    "lst2"
   ]
  },
  {
   "cell_type": "code",
   "execution_count": 34,
   "id": "8054ee9d",
   "metadata": {},
   "outputs": [
    {
     "data": {
      "text/plain": [
       "[[1, 2, 3, 4, 5], [1000, 7, 8, 9, 0]]"
      ]
     },
     "execution_count": 34,
     "metadata": {},
     "output_type": "execute_result"
    }
   ],
   "source": [
    "lst2[1][0]=1000\n",
    "lst2"
   ]
  },
  {
   "cell_type": "code",
   "execution_count": 35,
   "id": "eee81f03",
   "metadata": {},
   "outputs": [
    {
     "data": {
      "text/plain": [
       "[[1, 2, 3, 4, 5], [1000, 7, 8, 9, 0]]"
      ]
     },
     "execution_count": 35,
     "metadata": {},
     "output_type": "execute_result"
    }
   ],
   "source": [
    "lst1"
   ]
  },
  {
   "cell_type": "markdown",
   "id": "57eed828",
   "metadata": {},
   "source": [
    "Both the variables/lists are referring to the same object inside the list. But the nested list inside list lst1 and lst2 will point to same list object in memory.Memory location( id ) of nested list objects is same."
   ]
  },
  {
   "cell_type": "markdown",
   "id": "bac9c2f0",
   "metadata": {},
   "source": [
    "copy()- It will create shallow copy of the list.Shallow copy means , it creates only outer list copy, not the nested list copy.Both nested list objects is same for both list lst1 and lst2. If you try to modify the nested list then it will modify the original list too as the nested list object is same for both lists."
   ]
  },
  {
   "cell_type": "code",
   "execution_count": 36,
   "id": "60c307b1",
   "metadata": {},
   "outputs": [],
   "source": [
    "lst1.append([2,3,4,5])"
   ]
  },
  {
   "cell_type": "code",
   "execution_count": 37,
   "id": "b64d7232",
   "metadata": {},
   "outputs": [
    {
     "data": {
      "text/plain": [
       "[[1, 2, 3, 4, 5], [1000, 7, 8, 9, 0], [2, 3, 4, 5]]"
      ]
     },
     "execution_count": 37,
     "metadata": {},
     "output_type": "execute_result"
    }
   ],
   "source": [
    "lst1"
   ]
  },
  {
   "cell_type": "code",
   "execution_count": 38,
   "id": "40b83227",
   "metadata": {},
   "outputs": [
    {
     "data": {
      "text/plain": [
       "[[1, 2, 3, 4, 5], [1000, 7, 8, 9, 0]]"
      ]
     },
     "execution_count": 38,
     "metadata": {},
     "output_type": "execute_result"
    }
   ],
   "source": [
    "lst2"
   ]
  },
  {
   "cell_type": "markdown",
   "id": "d8badf92",
   "metadata": {},
   "source": [
    "If making changes inside the object, those changes will reflect in both the lists but if appending new items in one list then the other list will not change while using shallow copy"
   ]
  },
  {
   "cell_type": "markdown",
   "id": "a429f80d",
   "metadata": {},
   "source": [
    "A deepcopy constructs a new compound object and then, recursively, inserts copies into it of the objects found in the original."
   ]
  },
  {
   "cell_type": "code",
   "execution_count": 39,
   "id": "3f2eb035",
   "metadata": {},
   "outputs": [],
   "source": [
    "# deep copy() in single dimensional list\n",
    "import copy\n",
    "lst1=[1,2,3,45]\n",
    "lst2 = copy.deepcopy(lst1)"
   ]
  },
  {
   "cell_type": "code",
   "execution_count": 40,
   "id": "84dfac55",
   "metadata": {},
   "outputs": [
    {
     "data": {
      "text/plain": [
       "[1, 2, 3, 45]"
      ]
     },
     "execution_count": 40,
     "metadata": {},
     "output_type": "execute_result"
    }
   ],
   "source": [
    "lst1"
   ]
  },
  {
   "cell_type": "code",
   "execution_count": 41,
   "id": "6ad9455d",
   "metadata": {},
   "outputs": [
    {
     "data": {
      "text/plain": [
       "[1, 2, 3, 45]"
      ]
     },
     "execution_count": 41,
     "metadata": {},
     "output_type": "execute_result"
    }
   ],
   "source": [
    "lst2"
   ]
  },
  {
   "cell_type": "markdown",
   "id": "af6f8207",
   "metadata": {},
   "source": [
    "In single dimensional list shallow copy is equal to deep copy. After copying list using deepcopy() function, both list lst1 and lst2 contains same elements.But both are different list objects. Their id(memory location) is different. The nested list inside list lst1 and lst2 will also point to different list objects in memory.Memory location( id ) of nested list objects is also different."
   ]
  },
  {
   "cell_type": "code",
   "execution_count": 42,
   "id": "a8852165",
   "metadata": {},
   "outputs": [
    {
     "data": {
      "text/plain": [
       "([[1, 2, 3, 4, 5], [6, 7, 8, 9, 0], [55, 7, 86, 36, 75, 6, 89]],\n",
       " [[1, 2, 3, 4, 5], [6, 7, 8, 9, 0], [55, 7, 86, 36, 75, 6, 89]])"
      ]
     },
     "execution_count": 42,
     "metadata": {},
     "output_type": "execute_result"
    }
   ],
   "source": [
    "# deep copy in nested list\n",
    "lst1=[[1,2,3,4,5],[6,7,8,9,0],[55,7,86,36,75,6,89]]\n",
    "lst2=copy.deepcopy(lst1)\n",
    "lst1,lst2"
   ]
  },
  {
   "cell_type": "code",
   "execution_count": 43,
   "id": "8457e10d",
   "metadata": {},
   "outputs": [
    {
     "data": {
      "text/plain": [
       "6"
      ]
     },
     "execution_count": 43,
     "metadata": {},
     "output_type": "execute_result"
    }
   ],
   "source": [
    "lst2[1][0]"
   ]
  },
  {
   "cell_type": "code",
   "execution_count": 44,
   "id": "7c62abf3",
   "metadata": {},
   "outputs": [],
   "source": [
    "lst2[1][0]=100"
   ]
  },
  {
   "cell_type": "code",
   "execution_count": 45,
   "id": "e0a628bc",
   "metadata": {},
   "outputs": [
    {
     "data": {
      "text/plain": [
       "[[1, 2, 3, 4, 5], [100, 7, 8, 9, 0], [55, 7, 86, 36, 75, 6, 89]]"
      ]
     },
     "execution_count": 45,
     "metadata": {},
     "output_type": "execute_result"
    }
   ],
   "source": [
    "lst2"
   ]
  },
  {
   "cell_type": "code",
   "execution_count": 46,
   "id": "421b1b18",
   "metadata": {},
   "outputs": [
    {
     "data": {
      "text/plain": [
       "[[1, 2, 3, 4, 5], [6, 7, 8, 9, 0], [55, 7, 86, 36, 75, 6, 89]]"
      ]
     },
     "execution_count": 46,
     "metadata": {},
     "output_type": "execute_result"
    }
   ],
   "source": [
    "lst1"
   ]
  },
  {
   "cell_type": "markdown",
   "id": "7de9d191",
   "metadata": {},
   "source": [
    "Here, a different memory location is created for each operation. deepcopy()- It will create deepcopy of the list.Deep copy means , it creates not only outer list copy, but also nested list copy.Nested list objects will be different for both list lst1 and lst2. If you try to modify the nested list then it will not be reflected in the copied list ,because nested list objects is different for both lists."
   ]
  },
  {
   "cell_type": "markdown",
   "id": "b61eb7c9",
   "metadata": {},
   "source": [
    "If we modify elements in the nested list ,it will not get reflected in the copied list. Because both nested list objects are pointing to different list object in memory."
   ]
  },
  {
   "cell_type": "markdown",
   "id": "55047f5c",
   "metadata": {},
   "source": [
    "Conclusion:\n",
    "deepcopy()\n",
    "Copies everything.It copies object recursively.It means any changes made in the copy of object is not reflected in the original object\n",
    "\n",
    "copy()\n",
    "copy() function returns shallow copy of the object.If we modify elements in the outer list of copied list, it won’t be reflected in the original list.But if we modify nested list , it will be reflected in the original list.\n",
    "\n",
    "Assignment Operation.\n",
    "It won’t create copies.It creates only references to existing object.So If we modify immutable elements like int,str in the copied object,it won’t be reflected in the original object.But if we modify mutable objects like list, it will be reflected in the original object."
   ]
  },
  {
   "cell_type": "code",
   "execution_count": null,
   "id": "37a46cb0",
   "metadata": {},
   "outputs": [],
   "source": []
  }
 ],
 "metadata": {
  "kernelspec": {
   "display_name": "Python 3 (ipykernel)",
   "language": "python",
   "name": "python3"
  },
  "language_info": {
   "codemirror_mode": {
    "name": "ipython",
    "version": 3
   },
   "file_extension": ".py",
   "mimetype": "text/x-python",
   "name": "python",
   "nbconvert_exporter": "python",
   "pygments_lexer": "ipython3",
   "version": "3.10.9"
  }
 },
 "nbformat": 4,
 "nbformat_minor": 5
}
