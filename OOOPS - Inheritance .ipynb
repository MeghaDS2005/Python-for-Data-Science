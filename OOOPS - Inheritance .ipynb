{
 "cells": [
  {
   "cell_type": "markdown",
   "id": "63fd5a17",
   "metadata": {},
   "source": [
    "# Inheritance "
   ]
  },
  {
   "cell_type": "code",
   "execution_count": 11,
   "id": "e499a86e",
   "metadata": {},
   "outputs": [],
   "source": [
    "class cars:\n",
    "    def __init__(self,windows,doors,engine_type,model):\n",
    "          self.windows=windows\n",
    "          self._doors=doors\n",
    "          self.__engine_type=engine_type\n",
    "          self.model=model\n",
    "            \n",
    "    def drive(self):\n",
    "         print(\"The person drives the car\")"
   ]
  },
  {
   "cell_type": "markdown",
   "id": "50d1a3e4",
   "metadata": {},
   "source": [
    "In python _ means protected, __ means private and default is public"
   ]
  },
  {
   "cell_type": "code",
   "execution_count": 12,
   "id": "ab7e3934",
   "metadata": {},
   "outputs": [],
   "source": [
    "car=cars(4,5,\"Diesel\",\"BMW\")"
   ]
  },
  {
   "cell_type": "code",
   "execution_count": 4,
   "id": "1627d866",
   "metadata": {},
   "outputs": [
    {
     "data": {
      "text/plain": [
       "['__class__',\n",
       " '__delattr__',\n",
       " '__dict__',\n",
       " '__dir__',\n",
       " '__doc__',\n",
       " '__eq__',\n",
       " '__format__',\n",
       " '__ge__',\n",
       " '__getattribute__',\n",
       " '__gt__',\n",
       " '__hash__',\n",
       " '__init__',\n",
       " '__init_subclass__',\n",
       " '__le__',\n",
       " '__lt__',\n",
       " '__module__',\n",
       " '__ne__',\n",
       " '__new__',\n",
       " '__reduce__',\n",
       " '__reduce_ex__',\n",
       " '__repr__',\n",
       " '__setattr__',\n",
       " '__sizeof__',\n",
       " '__str__',\n",
       " '__subclasshook__',\n",
       " '__weakref__',\n",
       " 'doors',\n",
       " 'drive',\n",
       " 'engine_type',\n",
       " 'model',\n",
       " 'windows']"
      ]
     },
     "execution_count": 4,
     "metadata": {},
     "output_type": "execute_result"
    }
   ],
   "source": [
    "dir(car)"
   ]
  },
  {
   "cell_type": "code",
   "execution_count": 6,
   "id": "a9a433f0",
   "metadata": {},
   "outputs": [
    {
     "data": {
      "text/plain": [
       "'Diesel'"
      ]
     },
     "execution_count": 6,
     "metadata": {},
     "output_type": "execute_result"
    }
   ],
   "source": [
    "car.engine_type"
   ]
  },
  {
   "cell_type": "code",
   "execution_count": 13,
   "id": "96ef82b1",
   "metadata": {},
   "outputs": [
    {
     "name": "stdout",
     "output_type": "stream",
     "text": [
      "The person drives the car\n"
     ]
    }
   ],
   "source": [
    "car.drive()"
   ]
  },
  {
   "cell_type": "code",
   "execution_count": 16,
   "id": "46057f5f",
   "metadata": {},
   "outputs": [],
   "source": [
    "class audi(cars):\n",
    "    def __init__(self,windows,doors,engine_type,model,enableai):\n",
    "        super().__init__(windows,doors,engine_type,model)\n",
    "        self.enableai=enableai\n",
    "    def self_driving(self):\n",
    "        print(\"Audi supports self driving\")"
   ]
  },
  {
   "cell_type": "markdown",
   "id": "f38344ec",
   "metadata": {},
   "source": [
    "Audi is the parent class and audi is the child class"
   ]
  },
  {
   "cell_type": "code",
   "execution_count": 22,
   "id": "6f25ccb5",
   "metadata": {},
   "outputs": [],
   "source": [
    "audi1=audi(5,6,\"Petrol\",\"AudiQ7\",True)"
   ]
  },
  {
   "cell_type": "code",
   "execution_count": 23,
   "id": "97cefafa",
   "metadata": {},
   "outputs": [
    {
     "data": {
      "text/plain": [
       "<__main__.audi at 0x1b0a1642ef0>"
      ]
     },
     "execution_count": 23,
     "metadata": {},
     "output_type": "execute_result"
    }
   ],
   "source": [
    "audi1"
   ]
  },
  {
   "cell_type": "code",
   "execution_count": 24,
   "id": "b8af5a72",
   "metadata": {},
   "outputs": [
    {
     "data": {
      "text/plain": [
       "True"
      ]
     },
     "execution_count": 24,
     "metadata": {},
     "output_type": "execute_result"
    }
   ],
   "source": [
    "audi1.enableai"
   ]
  },
  {
   "cell_type": "code",
   "execution_count": 25,
   "id": "d2e83c85",
   "metadata": {},
   "outputs": [
    {
     "data": {
      "text/plain": [
       "'AudiQ7'"
      ]
     },
     "execution_count": 25,
     "metadata": {},
     "output_type": "execute_result"
    }
   ],
   "source": [
    "audi1.model"
   ]
  },
  {
   "cell_type": "code",
   "execution_count": null,
   "id": "27f9fb44",
   "metadata": {},
   "outputs": [],
   "source": []
  }
 ],
 "metadata": {
  "kernelspec": {
   "display_name": "Python 3 (ipykernel)",
   "language": "python",
   "name": "python3"
  },
  "language_info": {
   "codemirror_mode": {
    "name": "ipython",
    "version": 3
   },
   "file_extension": ".py",
   "mimetype": "text/x-python",
   "name": "python",
   "nbconvert_exporter": "python",
   "pygments_lexer": "ipython3",
   "version": "3.10.9"
  }
 },
 "nbformat": 4,
 "nbformat_minor": 5
}
