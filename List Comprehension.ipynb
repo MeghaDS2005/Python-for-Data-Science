{
 "cells": [
  {
   "cell_type": "markdown",
   "id": "4f848e3b",
   "metadata": {},
   "source": [
    "# List Comprehension"
   ]
  },
  {
   "cell_type": "markdown",
   "id": "67977efe",
   "metadata": {},
   "source": [
    "Provides a consice way of creating a list. It consists a bracket containing an expression followed by a for clause, then zero or more for or if clauses. The expressions can be anything, meaning we can put all kinds of objects in lists."
   ]
  },
  {
   "cell_type": "code",
   "execution_count": 1,
   "id": "e655dc3c",
   "metadata": {},
   "outputs": [],
   "source": [
    "lst1=[]\n",
    "def square_lst(lst):\n",
    "    for i in lst:\n",
    "        lst1.append(i*i)\n",
    "    return lst1\n"
   ]
  },
  {
   "cell_type": "code",
   "execution_count": 2,
   "id": "364eb87e",
   "metadata": {},
   "outputs": [
    {
     "data": {
      "text/plain": [
       "[1, 4, 9, 16, 25, 36, 49]"
      ]
     },
     "execution_count": 2,
     "metadata": {},
     "output_type": "execute_result"
    }
   ],
   "source": [
    "square_lst([1,2,3,4,5,6,7])"
   ]
  },
  {
   "cell_type": "markdown",
   "id": "8392fea7",
   "metadata": {},
   "source": [
    "This require a lot amount of code and is slow and also requires more memory.\n",
    "We can use list comprehension and write it in one line."
   ]
  },
  {
   "cell_type": "code",
   "execution_count": 3,
   "id": "b19139f3",
   "metadata": {},
   "outputs": [],
   "source": [
    "lst1=[1,2,3,4,5,6,7]"
   ]
  },
  {
   "cell_type": "code",
   "execution_count": 5,
   "id": "8114b3ee",
   "metadata": {},
   "outputs": [
    {
     "data": {
      "text/plain": [
       "[4, 16, 36]"
      ]
     },
     "execution_count": 5,
     "metadata": {},
     "output_type": "execute_result"
    }
   ],
   "source": [
    "[i*i for i in lst1 if i%2==0]"
   ]
  },
  {
   "cell_type": "code",
   "execution_count": 6,
   "id": "6ac7dbb1",
   "metadata": {},
   "outputs": [],
   "source": [
    "lst2=[i*i for i in lst1 if i%2!=0]"
   ]
  },
  {
   "cell_type": "code",
   "execution_count": 7,
   "id": "339dbf46",
   "metadata": {},
   "outputs": [
    {
     "name": "stdout",
     "output_type": "stream",
     "text": [
      "[1, 9, 25, 49]\n"
     ]
    }
   ],
   "source": [
    "print(lst2)"
   ]
  },
  {
   "cell_type": "code",
   "execution_count": null,
   "id": "da2ede37",
   "metadata": {},
   "outputs": [],
   "source": []
  }
 ],
 "metadata": {
  "kernelspec": {
   "display_name": "Python 3 (ipykernel)",
   "language": "python",
   "name": "python3"
  },
  "language_info": {
   "codemirror_mode": {
    "name": "ipython",
    "version": 3
   },
   "file_extension": ".py",
   "mimetype": "text/x-python",
   "name": "python",
   "nbconvert_exporter": "python",
   "pygments_lexer": "ipython3",
   "version": "3.10.9"
  }
 },
 "nbformat": 4,
 "nbformat_minor": 5
}
