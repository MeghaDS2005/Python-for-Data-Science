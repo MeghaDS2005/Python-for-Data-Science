{
 "cells": [
  {
   "cell_type": "markdown",
   "id": "87f4c183",
   "metadata": {},
   "source": [
    "# Pdf Password Protection "
   ]
  },
  {
   "cell_type": "code",
   "execution_count": 1,
   "id": "ac912208",
   "metadata": {},
   "outputs": [
    {
     "name": "stdout",
     "output_type": "stream",
     "text": [
      "Requirement already satisfied: PyPDF2 in c:\\users\\dell\\anaconda3\\lib\\site-packages (3.0.1)\n"
     ]
    }
   ],
   "source": [
    "!pip install PyPDF2"
   ]
  },
  {
   "cell_type": "code",
   "execution_count": 2,
   "id": "c5b42df9",
   "metadata": {},
   "outputs": [],
   "source": [
    "from PyPDF2 import PdfWriter, PdfReader"
   ]
  },
  {
   "cell_type": "code",
   "execution_count": 3,
   "id": "17d6fbb7",
   "metadata": {},
   "outputs": [],
   "source": [
    "#open pdf\n",
    "file_pdf = PdfReader(\"uml research paper.pdf\")\n",
    "#object for pdf writer\n",
    "out_pdf = PdfWriter()"
   ]
  },
  {
   "cell_type": "code",
   "execution_count": 4,
   "id": "eda5fff2",
   "metadata": {},
   "outputs": [
    {
     "data": {
      "text/plain": [
       "<PyPDF2._reader.PdfReader at 0x18e3792dfc0>"
      ]
     },
     "execution_count": 4,
     "metadata": {},
     "output_type": "execute_result"
    }
   ],
   "source": [
    "file_pdf"
   ]
  },
  {
   "cell_type": "code",
   "execution_count": 5,
   "id": "47699f81",
   "metadata": {},
   "outputs": [
    {
     "data": {
      "text/plain": [
       "15"
      ]
     },
     "execution_count": 5,
     "metadata": {},
     "output_type": "execute_result"
    }
   ],
   "source": [
    "len(file_pdf.pages)"
   ]
  },
  {
   "cell_type": "code",
   "execution_count": 6,
   "id": "8fae79a3",
   "metadata": {},
   "outputs": [],
   "source": [
    "noOfPages = file_pdf.pages"
   ]
  },
  {
   "cell_type": "code",
   "execution_count": 7,
   "id": "b7fc3551",
   "metadata": {},
   "outputs": [],
   "source": [
    "pwd = \"Megha\""
   ]
  },
  {
   "cell_type": "code",
   "execution_count": 8,
   "id": "dcaae81a",
   "metadata": {},
   "outputs": [
    {
     "name": "stdout",
     "output_type": "stream",
     "text": [
      "<PyPDF2._page._VirtualList object at 0x0000018E373ABB50>\n"
     ]
    }
   ],
   "source": [
    "print(noOfPages)"
   ]
  },
  {
   "cell_type": "code",
   "execution_count": 9,
   "id": "fafa21eb",
   "metadata": {},
   "outputs": [],
   "source": [
    "for i in range(len(file_pdf.pages)):\n",
    "    page_details=file_pdf.pages[i]\n",
    "    ### Add to the output page\n",
    "    out_pdf.add_page(page_details)"
   ]
  },
  {
   "cell_type": "code",
   "execution_count": 10,
   "id": "5248402a",
   "metadata": {},
   "outputs": [],
   "source": [
    "out_pdf.encrypt(pwd)"
   ]
  },
  {
   "cell_type": "code",
   "execution_count": 11,
   "id": "cd7edbdc",
   "metadata": {},
   "outputs": [],
   "source": [
    "#write byte mode\n",
    "with open(\"encrypted uml research paper.pdf\",\"wb\") as filename:\n",
    "    out_pdf.write(filename)"
   ]
  }
 ],
 "metadata": {
  "kernelspec": {
   "display_name": "Python 3 (ipykernel)",
   "language": "python",
   "name": "python3"
  },
  "language_info": {
   "codemirror_mode": {
    "name": "ipython",
    "version": 3
   },
   "file_extension": ".py",
   "mimetype": "text/x-python",
   "name": "python",
   "nbconvert_exporter": "python",
   "pygments_lexer": "ipython3",
   "version": "3.10.9"
  }
 },
 "nbformat": 4,
 "nbformat_minor": 5
}
